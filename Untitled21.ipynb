{
  "nbformat": 4,
  "nbformat_minor": 0,
  "metadata": {
    "colab": {
      "name": "Untitled21.ipynb",
      "provenance": [],
      "collapsed_sections": []
    },
    "kernelspec": {
      "name": "python3",
      "display_name": "Python 3"
    },
    "language_info": {
      "name": "python"
    }
  },
  "cells": [
    {
      "cell_type": "code",
      "metadata": {
        "colab": {
          "base_uri": "https://localhost:8080/",
          "height": 400
        },
        "id": "gVsauS8Cojh2",
        "outputId": "7d1a3f9f-7909-45bc-8aae-080134249925"
      },
      "source": [
        "import pandas as pd\n",
        "import numpy as np\n",
        "import matplotlib.pyplot as plt\n",
        "\n",
        "train = pd.read_csv(\"/content/drive/MyDrive/Train.csv\")\n",
        "test = pd.read_csv(\"/content/drive/MyDrive/Test.csv\")\n",
        "riders = pd.read_csv(\"/content/drive/MyDrive/Riders.csv\")\n",
        "\n",
        "train.head()"
      ],
      "execution_count": null,
      "outputs": [
        {
          "output_type": "execute_result",
          "data": {
            "text/html": [
              "<div>\n",
              "<style scoped>\n",
              "    .dataframe tbody tr th:only-of-type {\n",
              "        vertical-align: middle;\n",
              "    }\n",
              "\n",
              "    .dataframe tbody tr th {\n",
              "        vertical-align: top;\n",
              "    }\n",
              "\n",
              "    .dataframe thead th {\n",
              "        text-align: right;\n",
              "    }\n",
              "</style>\n",
              "<table border=\"1\" class=\"dataframe\">\n",
              "  <thead>\n",
              "    <tr style=\"text-align: right;\">\n",
              "      <th></th>\n",
              "      <th>Order No</th>\n",
              "      <th>User Id</th>\n",
              "      <th>Vehicle Type</th>\n",
              "      <th>Platform Type</th>\n",
              "      <th>Personal or Business</th>\n",
              "      <th>Placement - Day of Month</th>\n",
              "      <th>Placement - Weekday (Mo = 1)</th>\n",
              "      <th>Placement - Time</th>\n",
              "      <th>Confirmation - Day of Month</th>\n",
              "      <th>Confirmation - Weekday (Mo = 1)</th>\n",
              "      <th>Confirmation - Time</th>\n",
              "      <th>Arrival at Pickup - Day of Month</th>\n",
              "      <th>Arrival at Pickup - Weekday (Mo = 1)</th>\n",
              "      <th>Arrival at Pickup - Time</th>\n",
              "      <th>Pickup - Day of Month</th>\n",
              "      <th>Pickup - Weekday (Mo = 1)</th>\n",
              "      <th>Pickup - Time</th>\n",
              "      <th>Arrival at Destination - Day of Month</th>\n",
              "      <th>Arrival at Destination - Weekday (Mo = 1)</th>\n",
              "      <th>Arrival at Destination - Time</th>\n",
              "      <th>Distance (KM)</th>\n",
              "      <th>Temperature</th>\n",
              "      <th>Precipitation in millimeters</th>\n",
              "      <th>Pickup Lat</th>\n",
              "      <th>Pickup Long</th>\n",
              "      <th>Destination Lat</th>\n",
              "      <th>Destination Long</th>\n",
              "      <th>Rider Id</th>\n",
              "      <th>Time from Pickup to Arrival</th>\n",
              "    </tr>\n",
              "  </thead>\n",
              "  <tbody>\n",
              "    <tr>\n",
              "      <th>0</th>\n",
              "      <td>Order_No_4211</td>\n",
              "      <td>User_Id_633</td>\n",
              "      <td>Bike</td>\n",
              "      <td>3</td>\n",
              "      <td>Business</td>\n",
              "      <td>9</td>\n",
              "      <td>5</td>\n",
              "      <td>9:35:46 AM</td>\n",
              "      <td>9</td>\n",
              "      <td>5</td>\n",
              "      <td>9:40:10 AM</td>\n",
              "      <td>9</td>\n",
              "      <td>5</td>\n",
              "      <td>10:04:47 AM</td>\n",
              "      <td>9</td>\n",
              "      <td>5</td>\n",
              "      <td>10:27:30 AM</td>\n",
              "      <td>9</td>\n",
              "      <td>5</td>\n",
              "      <td>10:39:55 AM</td>\n",
              "      <td>4</td>\n",
              "      <td>20.4</td>\n",
              "      <td>NaN</td>\n",
              "      <td>-1.317755</td>\n",
              "      <td>36.830370</td>\n",
              "      <td>-1.300406</td>\n",
              "      <td>36.829741</td>\n",
              "      <td>Rider_Id_432</td>\n",
              "      <td>745</td>\n",
              "    </tr>\n",
              "    <tr>\n",
              "      <th>1</th>\n",
              "      <td>Order_No_25375</td>\n",
              "      <td>User_Id_2285</td>\n",
              "      <td>Bike</td>\n",
              "      <td>3</td>\n",
              "      <td>Personal</td>\n",
              "      <td>12</td>\n",
              "      <td>5</td>\n",
              "      <td>11:16:16 AM</td>\n",
              "      <td>12</td>\n",
              "      <td>5</td>\n",
              "      <td>11:23:21 AM</td>\n",
              "      <td>12</td>\n",
              "      <td>5</td>\n",
              "      <td>11:40:22 AM</td>\n",
              "      <td>12</td>\n",
              "      <td>5</td>\n",
              "      <td>11:44:09 AM</td>\n",
              "      <td>12</td>\n",
              "      <td>5</td>\n",
              "      <td>12:17:22 PM</td>\n",
              "      <td>16</td>\n",
              "      <td>26.4</td>\n",
              "      <td>NaN</td>\n",
              "      <td>-1.351453</td>\n",
              "      <td>36.899315</td>\n",
              "      <td>-1.295004</td>\n",
              "      <td>36.814358</td>\n",
              "      <td>Rider_Id_856</td>\n",
              "      <td>1993</td>\n",
              "    </tr>\n",
              "    <tr>\n",
              "      <th>2</th>\n",
              "      <td>Order_No_1899</td>\n",
              "      <td>User_Id_265</td>\n",
              "      <td>Bike</td>\n",
              "      <td>3</td>\n",
              "      <td>Business</td>\n",
              "      <td>30</td>\n",
              "      <td>2</td>\n",
              "      <td>12:39:25 PM</td>\n",
              "      <td>30</td>\n",
              "      <td>2</td>\n",
              "      <td>12:42:44 PM</td>\n",
              "      <td>30</td>\n",
              "      <td>2</td>\n",
              "      <td>12:49:34 PM</td>\n",
              "      <td>30</td>\n",
              "      <td>2</td>\n",
              "      <td>12:53:03 PM</td>\n",
              "      <td>30</td>\n",
              "      <td>2</td>\n",
              "      <td>1:00:38 PM</td>\n",
              "      <td>3</td>\n",
              "      <td>NaN</td>\n",
              "      <td>NaN</td>\n",
              "      <td>-1.308284</td>\n",
              "      <td>36.843419</td>\n",
              "      <td>-1.300921</td>\n",
              "      <td>36.828195</td>\n",
              "      <td>Rider_Id_155</td>\n",
              "      <td>455</td>\n",
              "    </tr>\n",
              "    <tr>\n",
              "      <th>3</th>\n",
              "      <td>Order_No_9336</td>\n",
              "      <td>User_Id_1402</td>\n",
              "      <td>Bike</td>\n",
              "      <td>3</td>\n",
              "      <td>Business</td>\n",
              "      <td>15</td>\n",
              "      <td>5</td>\n",
              "      <td>9:25:34 AM</td>\n",
              "      <td>15</td>\n",
              "      <td>5</td>\n",
              "      <td>9:26:05 AM</td>\n",
              "      <td>15</td>\n",
              "      <td>5</td>\n",
              "      <td>9:37:56 AM</td>\n",
              "      <td>15</td>\n",
              "      <td>5</td>\n",
              "      <td>9:43:06 AM</td>\n",
              "      <td>15</td>\n",
              "      <td>5</td>\n",
              "      <td>10:05:27 AM</td>\n",
              "      <td>9</td>\n",
              "      <td>19.2</td>\n",
              "      <td>NaN</td>\n",
              "      <td>-1.281301</td>\n",
              "      <td>36.832396</td>\n",
              "      <td>-1.257147</td>\n",
              "      <td>36.795063</td>\n",
              "      <td>Rider_Id_855</td>\n",
              "      <td>1341</td>\n",
              "    </tr>\n",
              "    <tr>\n",
              "      <th>4</th>\n",
              "      <td>Order_No_27883</td>\n",
              "      <td>User_Id_1737</td>\n",
              "      <td>Bike</td>\n",
              "      <td>1</td>\n",
              "      <td>Personal</td>\n",
              "      <td>13</td>\n",
              "      <td>1</td>\n",
              "      <td>9:55:18 AM</td>\n",
              "      <td>13</td>\n",
              "      <td>1</td>\n",
              "      <td>9:56:18 AM</td>\n",
              "      <td>13</td>\n",
              "      <td>1</td>\n",
              "      <td>10:03:53 AM</td>\n",
              "      <td>13</td>\n",
              "      <td>1</td>\n",
              "      <td>10:05:23 AM</td>\n",
              "      <td>13</td>\n",
              "      <td>1</td>\n",
              "      <td>10:25:37 AM</td>\n",
              "      <td>9</td>\n",
              "      <td>15.4</td>\n",
              "      <td>NaN</td>\n",
              "      <td>-1.266597</td>\n",
              "      <td>36.792118</td>\n",
              "      <td>-1.295041</td>\n",
              "      <td>36.809817</td>\n",
              "      <td>Rider_Id_770</td>\n",
              "      <td>1214</td>\n",
              "    </tr>\n",
              "  </tbody>\n",
              "</table>\n",
              "</div>"
            ],
            "text/plain": [
              "         Order No       User Id  ...      Rider Id  Time from Pickup to Arrival\n",
              "0   Order_No_4211   User_Id_633  ...  Rider_Id_432                          745\n",
              "1  Order_No_25375  User_Id_2285  ...  Rider_Id_856                         1993\n",
              "2   Order_No_1899   User_Id_265  ...  Rider_Id_155                          455\n",
              "3   Order_No_9336  User_Id_1402  ...  Rider_Id_855                         1341\n",
              "4  Order_No_27883  User_Id_1737  ...  Rider_Id_770                         1214\n",
              "\n",
              "[5 rows x 29 columns]"
            ]
          },
          "metadata": {
            "tags": []
          },
          "execution_count": 184
        }
      ]
    },
    {
      "cell_type": "code",
      "metadata": {
        "id": "j3rrVZizorZm"
      },
      "source": [
        "Training_Feature_Eng = train.copy()\n",
        "Testing_Feature_Eng  = test.copy()"
      ],
      "execution_count": null,
      "outputs": []
    },
    {
      "cell_type": "code",
      "metadata": {
        "id": "BCkLw795ovU6"
      },
      "source": [
        "from datetime import datetime as dt\n",
        "# Variable \" Placement Time of Day \"\n",
        "# converting time in hours \n",
        "\n",
        "Training_Feature_Eng['Placement - Time'] = Training_Feature_Eng['Placement - Time'].apply(lambda x: dt.strptime(x,'%I:%M:%S %p'))\n",
        "Training_Feature_Eng['Placement Time of Day'] = Training_Feature_Eng['Placement - Time'].dt.hour\n",
        "\n",
        "Testing_Feature_Eng['Placement - Time'] = Testing_Feature_Eng['Placement - Time'].apply(lambda x: dt.strptime(x,'%I:%M:%S %p'))\n",
        "Testing_Feature_Eng['Placement Time of Day'] = Testing_Feature_Eng['Placement - Time'].dt.hour"
      ],
      "execution_count": null,
      "outputs": []
    },
    {
      "cell_type": "code",
      "metadata": {
        "colab": {
          "base_uri": "https://localhost:8080/"
        },
        "id": "fuUbHsbXoxbP",
        "outputId": "1a19ff35-bff5-4e97-d008-e786bf75c39c"
      },
      "source": [
        "Testing_Feature_Eng['Placement Time of Day'].head()"
      ],
      "execution_count": null,
      "outputs": [
        {
          "output_type": "execute_result",
          "data": {
            "text/plain": [
              "0    16\n",
              "1    12\n",
              "2    11\n",
              "3    13\n",
              "4    11\n",
              "Name: Placement Time of Day, dtype: int64"
            ]
          },
          "metadata": {
            "tags": []
          },
          "execution_count": 187
        }
      ]
    },
    {
      "cell_type": "code",
      "metadata": {
        "colab": {
          "base_uri": "https://localhost:8080/"
        },
        "id": "o-tJTY4Ko0O6",
        "outputId": "3b19df0b-65cf-4e43-dd5d-ac4b21c795a4"
      },
      "source": [
        "print(Training_Feature_Eng['Placement Time of Day'].min())\n",
        "print(Training_Feature_Eng['Placement Time of Day'].max())\n",
        "\n",
        "print(Testing_Feature_Eng['Placement Time of Day'].min())\n",
        "print(Testing_Feature_Eng['Placement Time of Day'].max())"
      ],
      "execution_count": null,
      "outputs": [
        {
          "output_type": "stream",
          "text": [
            "0\n",
            "22\n",
            "6\n",
            "22\n"
          ],
          "name": "stdout"
        }
      ]
    },
    {
      "cell_type": "code",
      "metadata": {
        "id": "AQEBYoXwo0Yb"
      },
      "source": [
        "def get_part_hr(hour):\n",
        "    if (hour > 4) and (hour <= 8):\n",
        "        return 'Early Morning'\n",
        "    elif (hour > 8) and (hour < 12 ):\n",
        "        return 'Morning'\n",
        "    elif (hour >= 12) and (hour <= 16):\n",
        "        return'Noon'\n",
        "    elif (hour > 16) and (hour <= 20):\n",
        "        return 'Evening'\n",
        "    elif (hour > 20) and (hour <= 22):\n",
        "        return'Night'\n",
        "    else:\n",
        "        return'Late Night'"
      ],
      "execution_count": null,
      "outputs": []
    },
    {
      "cell_type": "code",
      "metadata": {
        "id": "LzZzTF8No0ep"
      },
      "source": [
        "Training_Feature_Eng['Placement Time of Day'] = Training_Feature_Eng['Placement Time of Day'].apply(get_part_hr)\n",
        "Testing_Feature_Eng['Placement Time of Day'] = Testing_Feature_Eng['Placement Time of Day'].apply(get_part_hr)"
      ],
      "execution_count": null,
      "outputs": []
    },
    {
      "cell_type": "code",
      "metadata": {
        "colab": {
          "base_uri": "https://localhost:8080/",
          "height": 484
        },
        "id": "_0y8Z7h-o0ii",
        "outputId": "758b04c3-f4ad-4780-ff16-82778ddf40d6"
      },
      "source": [
        "Training_Feature_Eng.head()"
      ],
      "execution_count": null,
      "outputs": [
        {
          "output_type": "execute_result",
          "data": {
            "text/html": [
              "<div>\n",
              "<style scoped>\n",
              "    .dataframe tbody tr th:only-of-type {\n",
              "        vertical-align: middle;\n",
              "    }\n",
              "\n",
              "    .dataframe tbody tr th {\n",
              "        vertical-align: top;\n",
              "    }\n",
              "\n",
              "    .dataframe thead th {\n",
              "        text-align: right;\n",
              "    }\n",
              "</style>\n",
              "<table border=\"1\" class=\"dataframe\">\n",
              "  <thead>\n",
              "    <tr style=\"text-align: right;\">\n",
              "      <th></th>\n",
              "      <th>Order No</th>\n",
              "      <th>User Id</th>\n",
              "      <th>Vehicle Type</th>\n",
              "      <th>Platform Type</th>\n",
              "      <th>Personal or Business</th>\n",
              "      <th>Placement - Day of Month</th>\n",
              "      <th>Placement - Weekday (Mo = 1)</th>\n",
              "      <th>Placement - Time</th>\n",
              "      <th>Confirmation - Day of Month</th>\n",
              "      <th>Confirmation - Weekday (Mo = 1)</th>\n",
              "      <th>Confirmation - Time</th>\n",
              "      <th>Arrival at Pickup - Day of Month</th>\n",
              "      <th>Arrival at Pickup - Weekday (Mo = 1)</th>\n",
              "      <th>Arrival at Pickup - Time</th>\n",
              "      <th>Pickup - Day of Month</th>\n",
              "      <th>Pickup - Weekday (Mo = 1)</th>\n",
              "      <th>Pickup - Time</th>\n",
              "      <th>Arrival at Destination - Day of Month</th>\n",
              "      <th>Arrival at Destination - Weekday (Mo = 1)</th>\n",
              "      <th>Arrival at Destination - Time</th>\n",
              "      <th>Distance (KM)</th>\n",
              "      <th>Temperature</th>\n",
              "      <th>Precipitation in millimeters</th>\n",
              "      <th>Pickup Lat</th>\n",
              "      <th>Pickup Long</th>\n",
              "      <th>Destination Lat</th>\n",
              "      <th>Destination Long</th>\n",
              "      <th>Rider Id</th>\n",
              "      <th>Time from Pickup to Arrival</th>\n",
              "      <th>Placement Time of Day</th>\n",
              "    </tr>\n",
              "  </thead>\n",
              "  <tbody>\n",
              "    <tr>\n",
              "      <th>0</th>\n",
              "      <td>Order_No_4211</td>\n",
              "      <td>User_Id_633</td>\n",
              "      <td>Bike</td>\n",
              "      <td>3</td>\n",
              "      <td>Business</td>\n",
              "      <td>9</td>\n",
              "      <td>5</td>\n",
              "      <td>1900-01-01 09:35:46</td>\n",
              "      <td>9</td>\n",
              "      <td>5</td>\n",
              "      <td>9:40:10 AM</td>\n",
              "      <td>9</td>\n",
              "      <td>5</td>\n",
              "      <td>10:04:47 AM</td>\n",
              "      <td>9</td>\n",
              "      <td>5</td>\n",
              "      <td>10:27:30 AM</td>\n",
              "      <td>9</td>\n",
              "      <td>5</td>\n",
              "      <td>10:39:55 AM</td>\n",
              "      <td>4</td>\n",
              "      <td>20.4</td>\n",
              "      <td>NaN</td>\n",
              "      <td>-1.317755</td>\n",
              "      <td>36.830370</td>\n",
              "      <td>-1.300406</td>\n",
              "      <td>36.829741</td>\n",
              "      <td>Rider_Id_432</td>\n",
              "      <td>745</td>\n",
              "      <td>Morning</td>\n",
              "    </tr>\n",
              "    <tr>\n",
              "      <th>1</th>\n",
              "      <td>Order_No_25375</td>\n",
              "      <td>User_Id_2285</td>\n",
              "      <td>Bike</td>\n",
              "      <td>3</td>\n",
              "      <td>Personal</td>\n",
              "      <td>12</td>\n",
              "      <td>5</td>\n",
              "      <td>1900-01-01 11:16:16</td>\n",
              "      <td>12</td>\n",
              "      <td>5</td>\n",
              "      <td>11:23:21 AM</td>\n",
              "      <td>12</td>\n",
              "      <td>5</td>\n",
              "      <td>11:40:22 AM</td>\n",
              "      <td>12</td>\n",
              "      <td>5</td>\n",
              "      <td>11:44:09 AM</td>\n",
              "      <td>12</td>\n",
              "      <td>5</td>\n",
              "      <td>12:17:22 PM</td>\n",
              "      <td>16</td>\n",
              "      <td>26.4</td>\n",
              "      <td>NaN</td>\n",
              "      <td>-1.351453</td>\n",
              "      <td>36.899315</td>\n",
              "      <td>-1.295004</td>\n",
              "      <td>36.814358</td>\n",
              "      <td>Rider_Id_856</td>\n",
              "      <td>1993</td>\n",
              "      <td>Morning</td>\n",
              "    </tr>\n",
              "    <tr>\n",
              "      <th>2</th>\n",
              "      <td>Order_No_1899</td>\n",
              "      <td>User_Id_265</td>\n",
              "      <td>Bike</td>\n",
              "      <td>3</td>\n",
              "      <td>Business</td>\n",
              "      <td>30</td>\n",
              "      <td>2</td>\n",
              "      <td>1900-01-01 12:39:25</td>\n",
              "      <td>30</td>\n",
              "      <td>2</td>\n",
              "      <td>12:42:44 PM</td>\n",
              "      <td>30</td>\n",
              "      <td>2</td>\n",
              "      <td>12:49:34 PM</td>\n",
              "      <td>30</td>\n",
              "      <td>2</td>\n",
              "      <td>12:53:03 PM</td>\n",
              "      <td>30</td>\n",
              "      <td>2</td>\n",
              "      <td>1:00:38 PM</td>\n",
              "      <td>3</td>\n",
              "      <td>NaN</td>\n",
              "      <td>NaN</td>\n",
              "      <td>-1.308284</td>\n",
              "      <td>36.843419</td>\n",
              "      <td>-1.300921</td>\n",
              "      <td>36.828195</td>\n",
              "      <td>Rider_Id_155</td>\n",
              "      <td>455</td>\n",
              "      <td>Noon</td>\n",
              "    </tr>\n",
              "    <tr>\n",
              "      <th>3</th>\n",
              "      <td>Order_No_9336</td>\n",
              "      <td>User_Id_1402</td>\n",
              "      <td>Bike</td>\n",
              "      <td>3</td>\n",
              "      <td>Business</td>\n",
              "      <td>15</td>\n",
              "      <td>5</td>\n",
              "      <td>1900-01-01 09:25:34</td>\n",
              "      <td>15</td>\n",
              "      <td>5</td>\n",
              "      <td>9:26:05 AM</td>\n",
              "      <td>15</td>\n",
              "      <td>5</td>\n",
              "      <td>9:37:56 AM</td>\n",
              "      <td>15</td>\n",
              "      <td>5</td>\n",
              "      <td>9:43:06 AM</td>\n",
              "      <td>15</td>\n",
              "      <td>5</td>\n",
              "      <td>10:05:27 AM</td>\n",
              "      <td>9</td>\n",
              "      <td>19.2</td>\n",
              "      <td>NaN</td>\n",
              "      <td>-1.281301</td>\n",
              "      <td>36.832396</td>\n",
              "      <td>-1.257147</td>\n",
              "      <td>36.795063</td>\n",
              "      <td>Rider_Id_855</td>\n",
              "      <td>1341</td>\n",
              "      <td>Morning</td>\n",
              "    </tr>\n",
              "    <tr>\n",
              "      <th>4</th>\n",
              "      <td>Order_No_27883</td>\n",
              "      <td>User_Id_1737</td>\n",
              "      <td>Bike</td>\n",
              "      <td>1</td>\n",
              "      <td>Personal</td>\n",
              "      <td>13</td>\n",
              "      <td>1</td>\n",
              "      <td>1900-01-01 09:55:18</td>\n",
              "      <td>13</td>\n",
              "      <td>1</td>\n",
              "      <td>9:56:18 AM</td>\n",
              "      <td>13</td>\n",
              "      <td>1</td>\n",
              "      <td>10:03:53 AM</td>\n",
              "      <td>13</td>\n",
              "      <td>1</td>\n",
              "      <td>10:05:23 AM</td>\n",
              "      <td>13</td>\n",
              "      <td>1</td>\n",
              "      <td>10:25:37 AM</td>\n",
              "      <td>9</td>\n",
              "      <td>15.4</td>\n",
              "      <td>NaN</td>\n",
              "      <td>-1.266597</td>\n",
              "      <td>36.792118</td>\n",
              "      <td>-1.295041</td>\n",
              "      <td>36.809817</td>\n",
              "      <td>Rider_Id_770</td>\n",
              "      <td>1214</td>\n",
              "      <td>Morning</td>\n",
              "    </tr>\n",
              "  </tbody>\n",
              "</table>\n",
              "</div>"
            ],
            "text/plain": [
              "         Order No  ... Placement Time of Day\n",
              "0   Order_No_4211  ...               Morning\n",
              "1  Order_No_25375  ...               Morning\n",
              "2   Order_No_1899  ...                  Noon\n",
              "3   Order_No_9336  ...               Morning\n",
              "4  Order_No_27883  ...               Morning\n",
              "\n",
              "[5 rows x 30 columns]"
            ]
          },
          "metadata": {
            "tags": []
          },
          "execution_count": 191
        }
      ]
    },
    {
      "cell_type": "code",
      "metadata": {
        "colab": {
          "base_uri": "https://localhost:8080/"
        },
        "id": "0M1euWcro0qj",
        "outputId": "988086a5-f886-4934-e085-a9e5ef0d0135"
      },
      "source": [
        "print(Training_Feature_Eng['Placement Time of Day'].head(2))\n",
        "print(Testing_Feature_Eng['Placement Time of Day'].head(2))"
      ],
      "execution_count": null,
      "outputs": [
        {
          "output_type": "stream",
          "text": [
            "0    Morning\n",
            "1    Morning\n",
            "Name: Placement Time of Day, dtype: object\n",
            "0    Noon\n",
            "1    Noon\n",
            "Name: Placement Time of Day, dtype: object\n"
          ],
          "name": "stdout"
        }
      ]
    },
    {
      "cell_type": "code",
      "metadata": {
        "id": "oBaEyd1Ao0uI"
      },
      "source": [
        "# converting time in hours \n",
        "# Variable \" Confirmation Time of Day \"\n",
        "Training_Feature_Eng['Confirmation - Time'] = Training_Feature_Eng['Confirmation - Time'].apply(lambda x: dt.strptime(x,'%I:%M:%S %p'))\n",
        "Training_Feature_Eng['Confirmation Time of Day'] = Training_Feature_Eng['Confirmation - Time'].dt.hour\n",
        "\n",
        "Testing_Feature_Eng['Confirmation - Time'] = Testing_Feature_Eng['Confirmation - Time'].apply(lambda x: dt.strptime(x,'%I:%M:%S %p'))\n",
        "Testing_Feature_Eng['Confirmation Time of Day'] = Testing_Feature_Eng['Confirmation - Time'].dt.hour"
      ],
      "execution_count": null,
      "outputs": []
    },
    {
      "cell_type": "code",
      "metadata": {
        "id": "zEkhZ6yRo0xn"
      },
      "source": [
        "Training_Feature_Eng['Confirmation Time of Day'] = Training_Feature_Eng['Confirmation Time of Day'].apply(get_part_hr)\n",
        "Testing_Feature_Eng['Confirmation Time of Day'] = Testing_Feature_Eng['Confirmation Time of Day'].apply(get_part_hr)"
      ],
      "execution_count": null,
      "outputs": []
    },
    {
      "cell_type": "code",
      "metadata": {
        "id": "nfULjND6o01g"
      },
      "source": [
        "# converting time in hours \n",
        "# Varibale \" Pickup Time of Day \"\n",
        "Training_Feature_Eng['Pickup - Time'] = Training_Feature_Eng['Pickup - Time'].apply(lambda x: dt.strptime(x,'%I:%M:%S %p'))\n",
        "Training_Feature_Eng['Pickup Time of Day'] = Training_Feature_Eng['Pickup - Time'].dt.hour\n",
        "\n",
        "Testing_Feature_Eng['Pickup - Time'] = Testing_Feature_Eng['Pickup - Time'].apply(lambda x: dt.strptime(x,'%I:%M:%S %p'))\n",
        "Testing_Feature_Eng['Pickup Time of Day'] = Testing_Feature_Eng['Pickup - Time'].dt.hour"
      ],
      "execution_count": null,
      "outputs": []
    },
    {
      "cell_type": "code",
      "metadata": {
        "id": "hcEy42_1o05L"
      },
      "source": [
        "Training_Feature_Eng['Pickup Time of Day'] = Training_Feature_Eng['Pickup Time of Day'].apply(get_part_hr)\n",
        "Testing_Feature_Eng['Pickup Time of Day'] = Testing_Feature_Eng['Pickup Time of Day'].apply(get_part_hr)"
      ],
      "execution_count": null,
      "outputs": []
    },
    {
      "cell_type": "code",
      "metadata": {
        "colab": {
          "base_uri": "https://localhost:8080/"
        },
        "id": "a5baU80zo08s",
        "outputId": "9776858e-1fbd-4b9f-bc93-d9d16c66a1b8"
      },
      "source": [
        "print(Training_Feature_Eng['Pickup Time of Day'].head(5))\n",
        "print(Testing_Feature_Eng['Pickup Time of Day'].head(5))"
      ],
      "execution_count": null,
      "outputs": [
        {
          "output_type": "stream",
          "text": [
            "0    Morning\n",
            "1    Morning\n",
            "2       Noon\n",
            "3    Morning\n",
            "4    Morning\n",
            "Name: Pickup Time of Day, dtype: object\n",
            "0    Evening\n",
            "1       Noon\n",
            "2    Morning\n",
            "3       Noon\n",
            "4    Morning\n",
            "Name: Pickup Time of Day, dtype: object\n"
          ],
          "name": "stdout"
        }
      ]
    },
    {
      "cell_type": "code",
      "metadata": {
        "id": "OFglG6J2o0_9"
      },
      "source": [
        "# converting time in hours\n",
        "# Variable \" Arrival at Pickup Time of Day \"\n",
        "Training_Feature_Eng['Arrival at Pickup - Time'] = Training_Feature_Eng['Arrival at Pickup - Time'].apply(lambda x: dt.strptime(x,'%I:%M:%S %p'))\n",
        "Training_Feature_Eng['Arrival at Pickup Time of Day'] = Training_Feature_Eng['Arrival at Pickup - Time'].dt.hour\n",
        "\n",
        "Testing_Feature_Eng['Arrival at Pickup - Time'] = Testing_Feature_Eng['Arrival at Pickup - Time'].apply(lambda x: dt.strptime(x,'%I:%M:%S %p'))\n",
        "Testing_Feature_Eng['Arrival at Pickup Time of Day'] = Testing_Feature_Eng['Arrival at Pickup - Time'].dt.hour\n"
      ],
      "execution_count": null,
      "outputs": []
    },
    {
      "cell_type": "code",
      "metadata": {
        "id": "cZOzwYk5o1Da"
      },
      "source": [
        "Training_Feature_Eng['Arrival at Pickup Time of Day'] = Training_Feature_Eng['Arrival at Pickup Time of Day'].apply(get_part_hr)\n",
        "Testing_Feature_Eng['Arrival at Pickup Time of Day'] = Testing_Feature_Eng['Arrival at Pickup Time of Day'].apply(get_part_hr)"
      ],
      "execution_count": null,
      "outputs": []
    },
    {
      "cell_type": "code",
      "metadata": {
        "colab": {
          "base_uri": "https://localhost:8080/"
        },
        "id": "YGuD6VzFpOoF",
        "outputId": "71d33803-52e9-4d42-9eb8-a721ab641d05"
      },
      "source": [
        "print(Training_Feature_Eng['Arrival at Pickup Time of Day'].head(5))\n",
        "print(Testing_Feature_Eng['Arrival at Pickup Time of Day'].head(5))"
      ],
      "execution_count": null,
      "outputs": [
        {
          "output_type": "stream",
          "text": [
            "0    Morning\n",
            "1    Morning\n",
            "2       Noon\n",
            "3    Morning\n",
            "4    Morning\n",
            "Name: Arrival at Pickup Time of Day, dtype: object\n",
            "0       Noon\n",
            "1       Noon\n",
            "2    Morning\n",
            "3       Noon\n",
            "4    Morning\n",
            "Name: Arrival at Pickup Time of Day, dtype: object\n"
          ],
          "name": "stdout"
        }
      ]
    },
    {
      "cell_type": "code",
      "metadata": {
        "id": "O2yUd652pOrD"
      },
      "source": [
        "# converting time in hours from the Training Feature Eng\n",
        "# Variable \" Arrival at Destination - Time \"\n",
        "Training_Feature_Eng['Arrival at Destination - Time'] = Training_Feature_Eng['Arrival at Destination - Time'].apply(lambda x: dt.strptime(x,'%I:%M:%S %p'))\n",
        "Training_Feature_Eng['Arrival at Destination Time of Day'] = Training_Feature_Eng['Arrival at Destination - Time'].dt.hour\n",
        "\n",
        "Testing_Feature_Eng['Arrival at Destination - Time'] = Training_Feature_Eng['Arrival at Destination - Time']\n",
        "Testing_Feature_Eng['Arrival at Destination Time of Day'] = Training_Feature_Eng['Arrival at Destination - Time'].dt.hour"
      ],
      "execution_count": null,
      "outputs": []
    },
    {
      "cell_type": "code",
      "metadata": {
        "colab": {
          "base_uri": "https://localhost:8080/"
        },
        "id": "8H8jO1vPpOtk",
        "outputId": "47622729-f201-4f46-ca29-7469872afc70"
      },
      "source": [
        "Training_Feature_Eng['Arrival at Destination Time of Day'].head()\n",
        "Testing_Feature_Eng[\"Arrival at Destination Time of Day\"].head()"
      ],
      "execution_count": null,
      "outputs": [
        {
          "output_type": "execute_result",
          "data": {
            "text/plain": [
              "0    10\n",
              "1    12\n",
              "2    13\n",
              "3    10\n",
              "4    10\n",
              "Name: Arrival at Destination Time of Day, dtype: int64"
            ]
          },
          "metadata": {
            "tags": []
          },
          "execution_count": 202
        }
      ]
    },
    {
      "cell_type": "code",
      "metadata": {
        "id": "oCutXS5_pOwK"
      },
      "source": [
        "Training_Feature_Eng['Arrival at Destination Time of Day']= Training_Feature_Eng['Arrival at Destination Time of Day'].apply(get_part_hr)\n",
        "Testing_Feature_Eng['Arrival at Destination Time of Day'] = Testing_Feature_Eng['Arrival at Destination Time of Day'].apply(get_part_hr)"
      ],
      "execution_count": null,
      "outputs": []
    },
    {
      "cell_type": "code",
      "metadata": {
        "colab": {
          "base_uri": "https://localhost:8080/"
        },
        "id": "6RSVtaTypOyu",
        "outputId": "00885452-a2e7-401e-8326-7d489b7adcb8"
      },
      "source": [
        "print(Training_Feature_Eng['Arrival at Destination Time of Day'].head(5))\n",
        "print(Testing_Feature_Eng['Arrival at Destination Time of Day'].head(5))"
      ],
      "execution_count": null,
      "outputs": [
        {
          "output_type": "stream",
          "text": [
            "0    Morning\n",
            "1       Noon\n",
            "2       Noon\n",
            "3    Morning\n",
            "4    Morning\n",
            "Name: Arrival at Destination Time of Day, dtype: object\n",
            "0    Morning\n",
            "1       Noon\n",
            "2       Noon\n",
            "3    Morning\n",
            "4    Morning\n",
            "Name: Arrival at Destination Time of Day, dtype: object\n"
          ],
          "name": "stdout"
        }
      ]
    },
    {
      "cell_type": "markdown",
      "metadata": {
        "id": "ibciCq-apVgg"
      },
      "source": [
        "**Grouping the variable \"Weekday (Mo=1)\" into Weekday and Weekend¶**"
      ]
    },
    {
      "cell_type": "code",
      "metadata": {
        "id": "r9tnVykCpO10"
      },
      "source": [
        "# Variable \" Placement_-_Weekday_(Mo_=_1) \" \n",
        "Training_Feature_Eng['Actual Day of Placement'] = np.where(Training_Feature_Eng['Placement - Weekday (Mo = 1)']< 6,\n",
        "                                                   'Weekday','Weekend')\n",
        "\n",
        "Testing_Feature_Eng['Actual Day of Placement'] = np.where(Testing_Feature_Eng['Placement - Weekday (Mo = 1)']< 6,\n",
        "                                                   'Weekday','Weekend')"
      ],
      "execution_count": null,
      "outputs": []
    },
    {
      "cell_type": "code",
      "metadata": {
        "colab": {
          "base_uri": "https://localhost:8080/"
        },
        "id": "nH8KuKM9pO4g",
        "outputId": "c005362d-13ef-433f-8e8d-f61c1d1ad03a"
      },
      "source": [
        "print(Training_Feature_Eng['Actual Day of Placement'].head(2))\n",
        "print(Testing_Feature_Eng['Actual Day of Placement'].head(2))"
      ],
      "execution_count": null,
      "outputs": [
        {
          "output_type": "stream",
          "text": [
            "0    Weekday\n",
            "1    Weekday\n",
            "Name: Actual Day of Placement, dtype: object\n",
            "0    Weekday\n",
            "1    Weekday\n",
            "Name: Actual Day of Placement, dtype: object\n"
          ],
          "name": "stdout"
        }
      ]
    },
    {
      "cell_type": "code",
      "metadata": {
        "id": "0oiZFTaFpO67"
      },
      "source": [
        "# Variable \" Confirmation_-_Weekday_(Mo_=_1) \" \n",
        "Training_Feature_Eng['Actual Day of Confirmation'] = np.where(Training_Feature_Eng['Confirmation - Weekday (Mo = 1)']< 6,\n",
        "                                                      'Weekday','Weekend')\n",
        "\n",
        "Testing_Feature_Eng['Actual Day of Confirmation'] = np.where(Testing_Feature_Eng['Confirmation - Weekday (Mo = 1)']< 6,\n",
        "                                                       'Weekday','Weekend')"
      ],
      "execution_count": null,
      "outputs": []
    },
    {
      "cell_type": "code",
      "metadata": {
        "colab": {
          "base_uri": "https://localhost:8080/"
        },
        "id": "W-pWS0lepO9o",
        "outputId": "7272842a-7b1e-4c49-feb6-b8f9089a49e1"
      },
      "source": [
        "print(Training_Feature_Eng['Actual Day of Confirmation'].tail(2))\n",
        "print(Testing_Feature_Eng['Actual Day of Confirmation'].tail(2))"
      ],
      "execution_count": null,
      "outputs": [
        {
          "output_type": "stream",
          "text": [
            "21199    Weekday\n",
            "21200    Weekday\n",
            "Name: Actual Day of Confirmation, dtype: object\n",
            "7066    Weekday\n",
            "7067    Weekday\n",
            "Name: Actual Day of Confirmation, dtype: object\n"
          ],
          "name": "stdout"
        }
      ]
    },
    {
      "cell_type": "code",
      "metadata": {
        "id": "P_ozHsuIpPAX"
      },
      "source": [
        "# Varibale \" Pickup_-_Weekday_(Mo_=_1) \"\n",
        "Training_Feature_Eng['Actual Day of Pickup'] = np.where(Training_Feature_Eng['Pickup - Weekday (Mo = 1)'] < 6, \n",
        "                                       'Weekday', 'Weekend')\n",
        "\n",
        "Testing_Feature_Eng['Actual Day of Pickup'] = np.where(Testing_Feature_Eng['Pickup - Weekday (Mo = 1)'] < 6, \n",
        "                                       'Weekday', 'Weekend')"
      ],
      "execution_count": null,
      "outputs": []
    },
    {
      "cell_type": "code",
      "metadata": {
        "colab": {
          "base_uri": "https://localhost:8080/"
        },
        "id": "pdkcRy5PpibG",
        "outputId": "57a39fa6-d6dd-4b35-9c75-681001986ca9"
      },
      "source": [
        "print(Training_Feature_Eng['Actual Day of Pickup'].head(2))\n",
        "print(Testing_Feature_Eng['Actual Day of Pickup'].head(2))"
      ],
      "execution_count": null,
      "outputs": [
        {
          "output_type": "stream",
          "text": [
            "0    Weekday\n",
            "1    Weekday\n",
            "Name: Actual Day of Pickup, dtype: object\n",
            "0    Weekday\n",
            "1    Weekday\n",
            "Name: Actual Day of Pickup, dtype: object\n"
          ],
          "name": "stdout"
        }
      ]
    },
    {
      "cell_type": "code",
      "metadata": {
        "id": "8UeTv5Lwpieo"
      },
      "source": [
        "# Varibale \" Arrival_at_Destination_-_Weekday_(Mo_=_1) \"\n",
        "Training_Feature_Eng['Actual Day of Arrival at Destination'] = np.where(Training_Feature_Eng['Arrival at Destination - Weekday (Mo = 1)'] < 6, \n",
        "                                                                 'Weekday', 'Weekend')\n",
        "\n",
        "Testing_Feature_Eng['Arrival at Destination - Weekday (Mo = 1)'] = Training_Feature_Eng['Arrival at Destination - Weekday (Mo = 1)']\n",
        "Testing_Feature_Eng['Actual Day of Arrival at Destination'] = np.where(Testing_Feature_Eng['Arrival at Destination - Weekday (Mo = 1)'] < 6, \n",
        "                                                                 'Weekday', 'Weekend')\n"
      ],
      "execution_count": null,
      "outputs": []
    },
    {
      "cell_type": "code",
      "metadata": {
        "colab": {
          "base_uri": "https://localhost:8080/"
        },
        "id": "rYB-ZjxwpiiS",
        "outputId": "7053b214-981c-45e0-89e1-a0b3dc776d4f"
      },
      "source": [
        "print(Training_Feature_Eng['Actual Day of Arrival at Destination'].head(2))\n",
        "print(Testing_Feature_Eng['Actual Day of Arrival at Destination'].head(2))"
      ],
      "execution_count": null,
      "outputs": [
        {
          "output_type": "stream",
          "text": [
            "0    Weekday\n",
            "1    Weekday\n",
            "Name: Actual Day of Arrival at Destination, dtype: object\n",
            "0    Weekday\n",
            "1    Weekday\n",
            "Name: Actual Day of Arrival at Destination, dtype: object\n"
          ],
          "name": "stdout"
        }
      ]
    },
    {
      "cell_type": "code",
      "metadata": {
        "id": "3z_tE-_PppO2"
      },
      "source": [
        "#Variable \" Arrival_at_Pickup_-_Weekday_(Mo_=_1) \"\n",
        "Training_Feature_Eng['Actual Day of Arrival at Pickup'] = np.where(Training_Feature_Eng['Arrival at Pickup - Weekday (Mo = 1)'] < 6, \n",
        "                                                            'Weekday', 'Weekend')\n",
        "\n",
        "Testing_Feature_Eng['Actual Day of Arrival at Pickup'] = np.where(Testing_Feature_Eng['Arrival at Pickup - Weekday (Mo = 1)'] < 6, \n",
        "                                                            'Weekday', 'Weekend')"
      ],
      "execution_count": null,
      "outputs": []
    },
    {
      "cell_type": "code",
      "metadata": {
        "colab": {
          "base_uri": "https://localhost:8080/"
        },
        "id": "keR1zJhoppSe",
        "outputId": "458c1514-7331-4840-cb70-d8959f60dc83"
      },
      "source": [
        "print(Training_Feature_Eng['Actual Day of Arrival at Pickup'].tail(2))\n",
        "print(Testing_Feature_Eng['Actual Day of Arrival at Pickup'].tail(2))"
      ],
      "execution_count": null,
      "outputs": [
        {
          "output_type": "stream",
          "text": [
            "21199    Weekday\n",
            "21200    Weekday\n",
            "Name: Actual Day of Arrival at Pickup, dtype: object\n",
            "7066    Weekday\n",
            "7067    Weekday\n",
            "Name: Actual Day of Arrival at Pickup, dtype: object\n"
          ],
          "name": "stdout"
        }
      ]
    },
    {
      "cell_type": "code",
      "metadata": {
        "id": "-H-2rq23ppWC"
      },
      "source": [
        "import sys\n",
        "import webbrowser\n",
        "from geopy.distance import geodesic"
      ],
      "execution_count": null,
      "outputs": []
    },
    {
      "cell_type": "code",
      "metadata": {
        "id": "sy3D3D8xppaC"
      },
      "source": [
        "from geopy.distance import geodesic\n",
        "\n",
        "Training_Feature_Eng['Proximity to Pickup Point'] = np.nan\n",
        "Testing_Feature_Eng['Proximity to Pickup Point'] = np.nan\n",
        "\n",
        "CBD_Nairobi=(-1.299719, 36.816097)\n",
        "\n",
        "for i, row in Training_Feature_Eng.iterrows():\n",
        "    Training_Feature_Eng.loc[i, 'Proximity to Pickup Point'] = geodesic((Training_Feature_Eng.loc[i, 'Pickup Lat'],\n",
        "                                                                  Training_Feature_Eng.loc[i, 'Pickup Long']),CBD_Nairobi).km \n",
        "for i, row in Testing_Feature_Eng.iterrows():\n",
        "    Testing_Feature_Eng.loc[i, 'Proximity to Pickup Point'] = geodesic((Testing_Feature_Eng.loc[i, 'Pickup Lat'],\n",
        "                                                                  Testing_Feature_Eng.loc[i, 'Pickup Long']),CBD_Nairobi).km"
      ],
      "execution_count": null,
      "outputs": []
    },
    {
      "cell_type": "code",
      "metadata": {
        "colab": {
          "base_uri": "https://localhost:8080/"
        },
        "id": "wZurQXZ4ppdv",
        "outputId": "8626a133-5658-4b3b-e0c9-e824cc632fa6"
      },
      "source": [
        "print(Training_Feature_Eng['Proximity to Pickup Point'].head(2))\n",
        "print(Testing_Feature_Eng['Proximity to Pickup Point'].head(2))"
      ],
      "execution_count": null,
      "outputs": [
        {
          "output_type": "stream",
          "text": [
            "0     2.549607\n",
            "1    10.885586\n",
            "Name: Proximity to Pickup Point, dtype: float64\n",
            "0    7.130916\n",
            "1    3.824221\n",
            "Name: Proximity to Pickup Point, dtype: float64\n"
          ],
          "name": "stdout"
        }
      ]
    },
    {
      "cell_type": "code",
      "metadata": {
        "id": "Hs0ArZz0pphb"
      },
      "source": [
        "from geopy.distance import geodesic\n",
        "\n",
        "Training_Feature_Eng['Proximity to Destination'] = np.nan\n",
        "Testing_Feature_Eng['Proximity to Destination'] = np.nan\n",
        "\n",
        "CBD_Nairobi=(-1.299719, 36.816097)\n",
        "\n",
        "for i, row in Training_Feature_Eng.iterrows():\n",
        "    Training_Feature_Eng.loc[i, 'Proximity to Destination'] = geodesic((Training_Feature_Eng.loc[i, 'Destination Lat'],\n",
        "                                                                  Training_Feature_Eng.loc[i, 'Destination Long']),CBD_Nairobi).km\n",
        "    \n",
        "for i, row in Testing_Feature_Eng.iterrows():\n",
        "    Testing_Feature_Eng.loc[i, 'Proximity to Destination'] = geodesic((Testing_Feature_Eng.loc[i, 'Destination Lat'],\n",
        "                                                                  Testing_Feature_Eng.loc[i, 'Destination Long']),CBD_Nairobi).km"
      ],
      "execution_count": null,
      "outputs": []
    },
    {
      "cell_type": "code",
      "metadata": {
        "colab": {
          "base_uri": "https://localhost:8080/"
        },
        "id": "w0NuvSAIpplQ",
        "outputId": "9d4121d1-47fb-4c77-a802-ba2e3647ba48"
      },
      "source": [
        "print(Training_Feature_Eng['Proximity to Destination'].head(2))\n",
        "print(Testing_Feature_Eng['Proximity to Destination'].head(2))"
      ],
      "execution_count": null,
      "outputs": [
        {
          "output_type": "stream",
          "text": [
            "0    1.520355\n",
            "1    0.556101\n",
            "Name: Proximity to Destination, dtype: float64\n",
            "0    0.929731\n",
            "1    2.657570\n",
            "Name: Proximity to Destination, dtype: float64\n"
          ],
          "name": "stdout"
        }
      ]
    },
    {
      "cell_type": "code",
      "metadata": {
        "id": "Oy2ASjO5pppM"
      },
      "source": [
        "Temperature_Deg = []\n",
        "\n",
        "for Degree in Training_Feature_Eng['Temperature']:\n",
        "    if (Degree >= 15) and (Degree <= 27):\n",
        "        Temperature_Deg.append('Average High Temperature')\n",
        "    elif (Degree >= 12) and (Degree <= 22 ):\n",
        "        Temperature_Deg.append('Average Low Temperature')\n",
        "    else:\n",
        "        Temperature_Deg.append('Normal Temperature')\n",
        "\n",
        "Temperature_Deg_1 = []\n",
        "\n",
        "for Degree in Testing_Feature_Eng['Temperature']:\n",
        "    if (Degree >= 15) and (Degree <= 27):\n",
        "        Temperature_Deg_1.append('Average High Temperature')\n",
        "    elif (Degree >= 12) and (Degree <= 22 ):\n",
        "        Temperature_Deg_1.append('Average Low Temperature')\n",
        "    else:\n",
        "        Temperature_Deg_1.append('Normal Temperature')\n",
        "\n",
        "\n",
        "Training_Feature_Eng['Temperature Condition'] = Temperature_Deg\n",
        "Testing_Feature_Eng['Temperature Condition'] = Temperature_Deg_1"
      ],
      "execution_count": null,
      "outputs": []
    },
    {
      "cell_type": "code",
      "metadata": {
        "colab": {
          "base_uri": "https://localhost:8080/"
        },
        "id": "VRIEaSaUppwc",
        "outputId": "22aa6737-a6f6-4dc7-893c-9f4c23d3cc7e"
      },
      "source": [
        "print(Training_Feature_Eng['Temperature Condition'].head(2))\n",
        "print(Testing_Feature_Eng['Temperature Condition'].head(2))"
      ],
      "execution_count": null,
      "outputs": [
        {
          "output_type": "stream",
          "text": [
            "0    Average High Temperature\n",
            "1    Average High Temperature\n",
            "Name: Temperature Condition, dtype: object\n",
            "0    Normal Temperature\n",
            "1    Normal Temperature\n",
            "Name: Temperature Condition, dtype: object\n"
          ],
          "name": "stdout"
        }
      ]
    },
    {
      "cell_type": "code",
      "metadata": {
        "id": "InxLCP5epp0i"
      },
      "source": [
        "Place_Day_Month = []\n",
        "\n",
        "for Each_Day in Training_Feature_Eng['Placement - Day of Month']:\n",
        "    if (Each_Day > 0 and Each_Day <=7):\n",
        "        Place_Day_Month.append('1st Week')        \n",
        "    elif (Each_Day > 7 and Each_Day <=15):\n",
        "        Place_Day_Month.append('2nd Week')\n",
        "    elif (Each_Day > 15 and Each_Day <=23):\n",
        "        Place_Day_Month.append('3rd Week')\n",
        "    else:\n",
        "        Place_Day_Month.append('4th Week')\n",
        "\n",
        "Place_Day_Month_1 = []\n",
        "\n",
        "for Each_Day in Testing_Feature_Eng['Placement - Day of Month']:\n",
        "    if (Each_Day > 0 and Each_Day <=7):\n",
        "        Place_Day_Month_1.append('1st Week')        \n",
        "    elif (Each_Day > 7 and Each_Day <=15):\n",
        "        Place_Day_Month_1.append('2nd Week')\n",
        "    elif (Each_Day > 15 and Each_Day <=23):\n",
        "        Place_Day_Month_1.append('3rd Week')\n",
        "    else:\n",
        "        Place_Day_Month_1.append('4th Week')\n",
        "            \n",
        "Training_Feature_Eng['Placement_Day into Weeks'] = Place_Day_Month\n",
        "Testing_Feature_Eng['Placement_Day into Weeks'] = Place_Day_Month_1"
      ],
      "execution_count": null,
      "outputs": []
    },
    {
      "cell_type": "code",
      "metadata": {
        "colab": {
          "base_uri": "https://localhost:8080/"
        },
        "id": "7RMKFqrQpilU",
        "outputId": "f1e3b685-165c-48bf-8e9f-2d0cdaeb2ec2"
      },
      "source": [
        "print(Training_Feature_Eng['Placement_Day into Weeks'].head(2))\n",
        "print(Testing_Feature_Eng['Placement_Day into Weeks'].head(2))"
      ],
      "execution_count": null,
      "outputs": [
        {
          "output_type": "stream",
          "text": [
            "0    2nd Week\n",
            "1    2nd Week\n",
            "Name: Placement_Day into Weeks, dtype: object\n",
            "0    4th Week\n",
            "1    3rd Week\n",
            "Name: Placement_Day into Weeks, dtype: object\n"
          ],
          "name": "stdout"
        }
      ]
    },
    {
      "cell_type": "code",
      "metadata": {
        "id": "180KjgwJp9M4"
      },
      "source": [
        "Confirm_Day_Month = []\n",
        "\n",
        "for Each_Day in Training_Feature_Eng['Confirmation - Day of Month']:\n",
        "    if (Each_Day > 0 and Each_Day <=7):\n",
        "        Confirm_Day_Month.append('1st Week')        \n",
        "    elif (Each_Day > 7 and Each_Day <=15):\n",
        "        Confirm_Day_Month.append('2nd Week')\n",
        "    elif (Each_Day > 15 and Each_Day <=23):\n",
        "        Confirm_Day_Month.append('3rd Week')\n",
        "    else:\n",
        "        Confirm_Day_Month.append('4th Week')\n",
        "\n",
        "Confirm_Day_Month_1 = []\n",
        "\n",
        "for Each_Day in Testing_Feature_Eng['Confirmation - Day of Month']:\n",
        "    if (Each_Day > 0 and Each_Day <=7):\n",
        "        Confirm_Day_Month_1.append('1st Week')        \n",
        "    elif (Each_Day > 7 and Each_Day <=15):\n",
        "        Confirm_Day_Month_1.append('2nd Week')\n",
        "    elif (Each_Day > 15 and Each_Day <=23):\n",
        "        Confirm_Day_Month_1.append('3rd Week')\n",
        "    else:\n",
        "        Confirm_Day_Month_1.append('4th Week')  \n",
        "\n",
        "Training_Feature_Eng['Confirmation_Day into Weeks'] = Confirm_Day_Month\n",
        "Testing_Feature_Eng['Confirmation_Day into Weeks'] = Confirm_Day_Month_1"
      ],
      "execution_count": null,
      "outputs": []
    },
    {
      "cell_type": "code",
      "metadata": {
        "colab": {
          "base_uri": "https://localhost:8080/"
        },
        "id": "zGVFM3nUp9Rk",
        "outputId": "bdd12e30-ddde-48c9-8df8-ff61264b2e4a"
      },
      "source": [
        "print(Training_Feature_Eng['Confirmation_Day into Weeks'].head(2))\n",
        "print(Testing_Feature_Eng['Confirmation_Day into Weeks'].head(2))"
      ],
      "execution_count": null,
      "outputs": [
        {
          "output_type": "stream",
          "text": [
            "0    2nd Week\n",
            "1    2nd Week\n",
            "Name: Confirmation_Day into Weeks, dtype: object\n",
            "0    4th Week\n",
            "1    3rd Week\n",
            "Name: Confirmation_Day into Weeks, dtype: object\n"
          ],
          "name": "stdout"
        }
      ]
    },
    {
      "cell_type": "code",
      "metadata": {
        "id": "tDiX8HHXp9Vt"
      },
      "source": [
        "Arrival_Pickup_Day_Month = []\n",
        "\n",
        "for Each_Day in Training_Feature_Eng['Arrival at Pickup - Day of Month']:\n",
        "    if (Each_Day > 0 and Each_Day <=7):\n",
        "        Arrival_Pickup_Day_Month.append('1st Week')        \n",
        "    elif (Each_Day > 7 and Each_Day <=15):\n",
        "        Arrival_Pickup_Day_Month.append('2nd Week')\n",
        "    elif (Each_Day > 15 and Each_Day <=23):\n",
        "        Arrival_Pickup_Day_Month.append('3rd Week')\n",
        "    else:\n",
        "        Arrival_Pickup_Day_Month.append('4th Week')\n",
        "\n",
        "Arrival_Pickup_Day_Month_1 = []\n",
        "\n",
        "for Each_Day in Testing_Feature_Eng['Arrival at Pickup - Day of Month']:\n",
        "    if (Each_Day > 0 and Each_Day <=7):\n",
        "        Arrival_Pickup_Day_Month_1.append('1st Week')        \n",
        "    elif (Each_Day > 7 and Each_Day <=15):\n",
        "        Arrival_Pickup_Day_Month_1.append('2nd Week')\n",
        "    elif (Each_Day > 15 and Each_Day <=23):\n",
        "        Arrival_Pickup_Day_Month_1.append('3rd Week')\n",
        "    else:\n",
        "        Arrival_Pickup_Day_Month_1.append('4th Week')\n",
        "        \n",
        "Training_Feature_Eng['Arrival_Pickup_Day into Weeks'] = Arrival_Pickup_Day_Month\n",
        "Testing_Feature_Eng['Arrival_Pickup_Day into Weeks'] = Arrival_Pickup_Day_Month_1"
      ],
      "execution_count": null,
      "outputs": []
    },
    {
      "cell_type": "code",
      "metadata": {
        "colab": {
          "base_uri": "https://localhost:8080/"
        },
        "id": "71hnemL2p9aK",
        "outputId": "a98c11a6-16ee-4b00-f78e-b72768034d24"
      },
      "source": [
        "print(Training_Feature_Eng['Arrival_Pickup_Day into Weeks'].head(2))\n",
        "print(Testing_Feature_Eng['Arrival_Pickup_Day into Weeks'].head(2))"
      ],
      "execution_count": null,
      "outputs": [
        {
          "output_type": "stream",
          "text": [
            "0    2nd Week\n",
            "1    2nd Week\n",
            "Name: Arrival_Pickup_Day into Weeks, dtype: object\n",
            "0    4th Week\n",
            "1    3rd Week\n",
            "Name: Arrival_Pickup_Day into Weeks, dtype: object\n"
          ],
          "name": "stdout"
        }
      ]
    },
    {
      "cell_type": "code",
      "metadata": {
        "id": "I3J3EyMcp9eb"
      },
      "source": [
        "Pickup_Day_Month = []\n",
        "\n",
        "for Each_Day in Training_Feature_Eng['Pickup - Day of Month']:\n",
        "    if (Each_Day > 0 and Each_Day <=7):\n",
        "        Pickup_Day_Month.append('1st Week')        \n",
        "    elif (Each_Day > 7 and Each_Day <=15):\n",
        "        Pickup_Day_Month.append('2nd Week')\n",
        "    elif (Each_Day > 15 and Each_Day <=23):\n",
        "        Pickup_Day_Month.append('3rd Week')\n",
        "    else:\n",
        "        Pickup_Day_Month.append('4th Week')\n",
        "\n",
        "Pickup_Day_Month_1 = []\n",
        "\n",
        "for Each_Day in Testing_Feature_Eng['Pickup - Day of Month']:\n",
        "    if (Each_Day > 0 and Each_Day <=7):\n",
        "        Pickup_Day_Month_1.append('1st Week')        \n",
        "    elif (Each_Day > 7 and Each_Day <=15):\n",
        "        Pickup_Day_Month_1.append('2nd Week')\n",
        "    elif (Each_Day > 15 and Each_Day <=23):\n",
        "        Pickup_Day_Month_1.append('3rd Week')\n",
        "    else:\n",
        "        Pickup_Day_Month_1.append('4th Week')\n",
        "                        \n",
        "Training_Feature_Eng['Pickup_Day into Weeks'] = Pickup_Day_Month\n",
        "Testing_Feature_Eng['Pickup_Day into Weeks'] = Pickup_Day_Month_1"
      ],
      "execution_count": null,
      "outputs": []
    },
    {
      "cell_type": "code",
      "metadata": {
        "colab": {
          "base_uri": "https://localhost:8080/"
        },
        "id": "qnKV8RFop9jW",
        "outputId": "ff0c4a3c-4a3e-4362-f533-47565eceb849"
      },
      "source": [
        "print(Training_Feature_Eng['Pickup_Day into Weeks'].head(2))\n",
        "print(Testing_Feature_Eng['Pickup_Day into Weeks'].head(2))"
      ],
      "execution_count": null,
      "outputs": [
        {
          "output_type": "stream",
          "text": [
            "0    2nd Week\n",
            "1    2nd Week\n",
            "Name: Pickup_Day into Weeks, dtype: object\n",
            "0    4th Week\n",
            "1    3rd Week\n",
            "Name: Pickup_Day into Weeks, dtype: object\n"
          ],
          "name": "stdout"
        }
      ]
    },
    {
      "cell_type": "code",
      "metadata": {
        "id": "AClPz9N0p9n9"
      },
      "source": [
        "Arrival_Destn_Day_Month = []\n",
        "\n",
        "for Each_Day in Training_Feature_Eng['Arrival at Destination - Day of Month']:\n",
        "    if (Each_Day > 0 and Each_Day <=7):\n",
        "        Arrival_Destn_Day_Month.append('1st Week')        \n",
        "    elif (Each_Day > 7 and Each_Day <=15):\n",
        "        Arrival_Destn_Day_Month.append('2nd Week')\n",
        "    elif (Each_Day > 15 and Each_Day <=23):\n",
        "        Arrival_Destn_Day_Month.append('3rd Week')\n",
        "    else:\n",
        "        Arrival_Destn_Day_Month.append('4th Week')\n",
        "\n",
        "Arrival_Destn_Day_Month_1 = []\n",
        "Testing_Feature_Eng['Arrival at Destination - Day of Month']=Training_Feature_Eng['Arrival at Destination - Day of Month']\n",
        "\n",
        "for Each_Day in Testing_Feature_Eng['Arrival at Destination - Day of Month']:\n",
        "    if (Each_Day > 0 and Each_Day <=7):\n",
        "        Arrival_Destn_Day_Month_1.append('1st Week')        \n",
        "    elif (Each_Day > 7 and Each_Day <=15):\n",
        "        Arrival_Destn_Day_Month_1.append('2nd Week')\n",
        "    elif (Each_Day > 15 and Each_Day <=23):\n",
        "        Arrival_Destn_Day_Month_1.append('3rd Week')\n",
        "    else:\n",
        "        Arrival_Destn_Day_Month_1.append('4th Week')\n",
        "\n",
        "Training_Feature_Eng['Arrival_Destination_Day into Weeks'] = Arrival_Destn_Day_Month\n",
        "Testing_Feature_Eng['Arrival_Destination_Day into Weeks'] = Arrival_Destn_Day_Month_1"
      ],
      "execution_count": null,
      "outputs": []
    },
    {
      "cell_type": "code",
      "metadata": {
        "colab": {
          "base_uri": "https://localhost:8080/"
        },
        "id": "d_6tbX7FqKuI",
        "outputId": "3907cf16-78b8-434a-e3bc-ae2b7eb4d143"
      },
      "source": [
        "print(Training_Feature_Eng['Arrival_Destination_Day into Weeks'].head(2))\n",
        "print(Testing_Feature_Eng['Arrival_Destination_Day into Weeks'].head(2))"
      ],
      "execution_count": null,
      "outputs": [
        {
          "output_type": "stream",
          "text": [
            "0    2nd Week\n",
            "1    2nd Week\n",
            "Name: Arrival_Destination_Day into Weeks, dtype: object\n",
            "0    2nd Week\n",
            "1    2nd Week\n",
            "Name: Arrival_Destination_Day into Weeks, dtype: object\n"
          ],
          "name": "stdout"
        }
      ]
    },
    {
      "cell_type": "code",
      "metadata": {
        "colab": {
          "base_uri": "https://localhost:8080/"
        },
        "id": "lfV57rs2qKzw",
        "outputId": "6cf40b41-c6bc-44f5-b85f-7b7bfe46c6b6"
      },
      "source": [
        "Training_Feature_Eng.columns"
      ],
      "execution_count": null,
      "outputs": [
        {
          "output_type": "execute_result",
          "data": {
            "text/plain": [
              "Index(['Order No', 'User Id', 'Vehicle Type', 'Platform Type',\n",
              "       'Personal or Business', 'Placement - Day of Month',\n",
              "       'Placement - Weekday (Mo = 1)', 'Placement - Time',\n",
              "       'Confirmation - Day of Month', 'Confirmation - Weekday (Mo = 1)',\n",
              "       'Confirmation - Time', 'Arrival at Pickup - Day of Month',\n",
              "       'Arrival at Pickup - Weekday (Mo = 1)', 'Arrival at Pickup - Time',\n",
              "       'Pickup - Day of Month', 'Pickup - Weekday (Mo = 1)', 'Pickup - Time',\n",
              "       'Arrival at Destination - Day of Month',\n",
              "       'Arrival at Destination - Weekday (Mo = 1)',\n",
              "       'Arrival at Destination - Time', 'Distance (KM)', 'Temperature',\n",
              "       'Precipitation in millimeters', 'Pickup Lat', 'Pickup Long',\n",
              "       'Destination Lat', 'Destination Long', 'Rider Id',\n",
              "       'Time from Pickup to Arrival', 'Placement Time of Day',\n",
              "       'Confirmation Time of Day', 'Pickup Time of Day',\n",
              "       'Arrival at Pickup Time of Day', 'Arrival at Destination Time of Day',\n",
              "       'Actual Day of Placement', 'Actual Day of Confirmation',\n",
              "       'Actual Day of Pickup', 'Actual Day of Arrival at Destination',\n",
              "       'Actual Day of Arrival at Pickup', 'Proximity to Pickup Point',\n",
              "       'Proximity to Destination', 'Temperature Condition',\n",
              "       'Placement_Day into Weeks', 'Confirmation_Day into Weeks',\n",
              "       'Arrival_Pickup_Day into Weeks', 'Pickup_Day into Weeks',\n",
              "       'Arrival_Destination_Day into Weeks'],\n",
              "      dtype='object')"
            ]
          },
          "metadata": {
            "tags": []
          },
          "execution_count": 232
        }
      ]
    },
    {
      "cell_type": "code",
      "metadata": {
        "colab": {
          "base_uri": "https://localhost:8080/",
          "height": 106
        },
        "id": "MdMsHAvSqK5I",
        "outputId": "af453ae8-b435-4e60-cea9-4ef7901987ac"
      },
      "source": [
        "Weekend_Weekday = Training_Feature_Eng.groupby(['Actual Day of Placement'], as_index=False).mean()\n",
        "Weekend_Weekday[['Actual Day of Placement','Time from Pickup to Arrival']].sort_values('Time from Pickup to Arrival',ascending=False)"
      ],
      "execution_count": null,
      "outputs": [
        {
          "output_type": "execute_result",
          "data": {
            "text/html": [
              "<div>\n",
              "<style scoped>\n",
              "    .dataframe tbody tr th:only-of-type {\n",
              "        vertical-align: middle;\n",
              "    }\n",
              "\n",
              "    .dataframe tbody tr th {\n",
              "        vertical-align: top;\n",
              "    }\n",
              "\n",
              "    .dataframe thead th {\n",
              "        text-align: right;\n",
              "    }\n",
              "</style>\n",
              "<table border=\"1\" class=\"dataframe\">\n",
              "  <thead>\n",
              "    <tr style=\"text-align: right;\">\n",
              "      <th></th>\n",
              "      <th>Actual Day of Placement</th>\n",
              "      <th>Time from Pickup to Arrival</th>\n",
              "    </tr>\n",
              "  </thead>\n",
              "  <tbody>\n",
              "    <tr>\n",
              "      <th>0</th>\n",
              "      <td>Weekday</td>\n",
              "      <td>1562.609337</td>\n",
              "    </tr>\n",
              "    <tr>\n",
              "      <th>1</th>\n",
              "      <td>Weekend</td>\n",
              "      <td>1477.017033</td>\n",
              "    </tr>\n",
              "  </tbody>\n",
              "</table>\n",
              "</div>"
            ],
            "text/plain": [
              "  Actual Day of Placement  Time from Pickup to Arrival\n",
              "0                 Weekday                  1562.609337\n",
              "1                 Weekend                  1477.017033"
            ]
          },
          "metadata": {
            "tags": []
          },
          "execution_count": 233
        }
      ]
    },
    {
      "cell_type": "code",
      "metadata": {
        "colab": {
          "base_uri": "https://localhost:8080/",
          "height": 166
        },
        "id": "C0JbwCMCqK-W",
        "outputId": "19887772-ce19-4506-9852-682c192c5dd5"
      },
      "source": [
        "Pickup_Week = Training_Feature_Eng.groupby(['Pickup_Day into Weeks'], as_index=False).mean()\n",
        "Pickup_Week[['Pickup_Day into Weeks','Time from Pickup to Arrival']].sort_values('Time from Pickup to Arrival',ascending=False)"
      ],
      "execution_count": null,
      "outputs": [
        {
          "output_type": "execute_result",
          "data": {
            "text/html": [
              "<div>\n",
              "<style scoped>\n",
              "    .dataframe tbody tr th:only-of-type {\n",
              "        vertical-align: middle;\n",
              "    }\n",
              "\n",
              "    .dataframe tbody tr th {\n",
              "        vertical-align: top;\n",
              "    }\n",
              "\n",
              "    .dataframe thead th {\n",
              "        text-align: right;\n",
              "    }\n",
              "</style>\n",
              "<table border=\"1\" class=\"dataframe\">\n",
              "  <thead>\n",
              "    <tr style=\"text-align: right;\">\n",
              "      <th></th>\n",
              "      <th>Pickup_Day into Weeks</th>\n",
              "      <th>Time from Pickup to Arrival</th>\n",
              "    </tr>\n",
              "  </thead>\n",
              "  <tbody>\n",
              "    <tr>\n",
              "      <th>1</th>\n",
              "      <td>2nd Week</td>\n",
              "      <td>1589.452235</td>\n",
              "    </tr>\n",
              "    <tr>\n",
              "      <th>0</th>\n",
              "      <td>1st Week</td>\n",
              "      <td>1558.922781</td>\n",
              "    </tr>\n",
              "    <tr>\n",
              "      <th>2</th>\n",
              "      <td>3rd Week</td>\n",
              "      <td>1544.737104</td>\n",
              "    </tr>\n",
              "    <tr>\n",
              "      <th>3</th>\n",
              "      <td>4th Week</td>\n",
              "      <td>1529.274536</td>\n",
              "    </tr>\n",
              "  </tbody>\n",
              "</table>\n",
              "</div>"
            ],
            "text/plain": [
              "  Pickup_Day into Weeks  Time from Pickup to Arrival\n",
              "1              2nd Week                  1589.452235\n",
              "0              1st Week                  1558.922781\n",
              "2              3rd Week                  1544.737104\n",
              "3              4th Week                  1529.274536"
            ]
          },
          "metadata": {
            "tags": []
          },
          "execution_count": 234
        }
      ]
    },
    {
      "cell_type": "code",
      "metadata": {
        "colab": {
          "base_uri": "https://localhost:8080/",
          "height": 225
        },
        "id": "rEpwl7vNqLEA",
        "outputId": "a46fd890-8aaf-4164-bf66-ad6d5d2c8ced"
      },
      "source": [
        "Placement_Day_Time = Training_Feature_Eng.groupby(['Placement Time of Day'], as_index=False).mean()\n",
        "Placement_Day_Time[['Placement Time of Day','Time from Pickup to Arrival']].sort_values('Time from Pickup to Arrival',ascending=False)"
      ],
      "execution_count": null,
      "outputs": [
        {
          "output_type": "execute_result",
          "data": {
            "text/html": [
              "<div>\n",
              "<style scoped>\n",
              "    .dataframe tbody tr th:only-of-type {\n",
              "        vertical-align: middle;\n",
              "    }\n",
              "\n",
              "    .dataframe tbody tr th {\n",
              "        vertical-align: top;\n",
              "    }\n",
              "\n",
              "    .dataframe thead th {\n",
              "        text-align: right;\n",
              "    }\n",
              "</style>\n",
              "<table border=\"1\" class=\"dataframe\">\n",
              "  <thead>\n",
              "    <tr style=\"text-align: right;\">\n",
              "      <th></th>\n",
              "      <th>Placement Time of Day</th>\n",
              "      <th>Time from Pickup to Arrival</th>\n",
              "    </tr>\n",
              "  </thead>\n",
              "  <tbody>\n",
              "    <tr>\n",
              "      <th>5</th>\n",
              "      <td>Noon</td>\n",
              "      <td>1570.260299</td>\n",
              "    </tr>\n",
              "    <tr>\n",
              "      <th>3</th>\n",
              "      <td>Morning</td>\n",
              "      <td>1556.264176</td>\n",
              "    </tr>\n",
              "    <tr>\n",
              "      <th>0</th>\n",
              "      <td>Early Morning</td>\n",
              "      <td>1487.088725</td>\n",
              "    </tr>\n",
              "    <tr>\n",
              "      <th>1</th>\n",
              "      <td>Evening</td>\n",
              "      <td>1483.903955</td>\n",
              "    </tr>\n",
              "    <tr>\n",
              "      <th>4</th>\n",
              "      <td>Night</td>\n",
              "      <td>806.846154</td>\n",
              "    </tr>\n",
              "    <tr>\n",
              "      <th>2</th>\n",
              "      <td>Late Night</td>\n",
              "      <td>5.000000</td>\n",
              "    </tr>\n",
              "  </tbody>\n",
              "</table>\n",
              "</div>"
            ],
            "text/plain": [
              "  Placement Time of Day  Time from Pickup to Arrival\n",
              "5                  Noon                  1570.260299\n",
              "3               Morning                  1556.264176\n",
              "0         Early Morning                  1487.088725\n",
              "1               Evening                  1483.903955\n",
              "4                 Night                   806.846154\n",
              "2            Late Night                     5.000000"
            ]
          },
          "metadata": {
            "tags": []
          },
          "execution_count": 235
        }
      ]
    },
    {
      "cell_type": "code",
      "metadata": {
        "colab": {
          "base_uri": "https://localhost:8080/",
          "height": 294
        },
        "id": "L73aNRBnqLJ9",
        "outputId": "02112a26-dc69-4e5a-fd88-b9e408b2a1ee"
      },
      "source": [
        "Testing_Feature_Eng.head(2)"
      ],
      "execution_count": null,
      "outputs": [
        {
          "output_type": "execute_result",
          "data": {
            "text/html": [
              "<div>\n",
              "<style scoped>\n",
              "    .dataframe tbody tr th:only-of-type {\n",
              "        vertical-align: middle;\n",
              "    }\n",
              "\n",
              "    .dataframe tbody tr th {\n",
              "        vertical-align: top;\n",
              "    }\n",
              "\n",
              "    .dataframe thead th {\n",
              "        text-align: right;\n",
              "    }\n",
              "</style>\n",
              "<table border=\"1\" class=\"dataframe\">\n",
              "  <thead>\n",
              "    <tr style=\"text-align: right;\">\n",
              "      <th></th>\n",
              "      <th>Order No</th>\n",
              "      <th>User Id</th>\n",
              "      <th>Vehicle Type</th>\n",
              "      <th>Platform Type</th>\n",
              "      <th>Personal or Business</th>\n",
              "      <th>Placement - Day of Month</th>\n",
              "      <th>Placement - Weekday (Mo = 1)</th>\n",
              "      <th>Placement - Time</th>\n",
              "      <th>Confirmation - Day of Month</th>\n",
              "      <th>Confirmation - Weekday (Mo = 1)</th>\n",
              "      <th>Confirmation - Time</th>\n",
              "      <th>Arrival at Pickup - Day of Month</th>\n",
              "      <th>Arrival at Pickup - Weekday (Mo = 1)</th>\n",
              "      <th>Arrival at Pickup - Time</th>\n",
              "      <th>Pickup - Day of Month</th>\n",
              "      <th>Pickup - Weekday (Mo = 1)</th>\n",
              "      <th>Pickup - Time</th>\n",
              "      <th>Distance (KM)</th>\n",
              "      <th>Temperature</th>\n",
              "      <th>Precipitation in millimeters</th>\n",
              "      <th>Pickup Lat</th>\n",
              "      <th>Pickup Long</th>\n",
              "      <th>Destination Lat</th>\n",
              "      <th>Destination Long</th>\n",
              "      <th>Rider Id</th>\n",
              "      <th>Placement Time of Day</th>\n",
              "      <th>Confirmation Time of Day</th>\n",
              "      <th>Pickup Time of Day</th>\n",
              "      <th>Arrival at Pickup Time of Day</th>\n",
              "      <th>Arrival at Destination - Time</th>\n",
              "      <th>Arrival at Destination Time of Day</th>\n",
              "      <th>Actual Day of Placement</th>\n",
              "      <th>Actual Day of Confirmation</th>\n",
              "      <th>Actual Day of Pickup</th>\n",
              "      <th>Arrival at Destination - Weekday (Mo = 1)</th>\n",
              "      <th>Actual Day of Arrival at Destination</th>\n",
              "      <th>Actual Day of Arrival at Pickup</th>\n",
              "      <th>Proximity to Pickup Point</th>\n",
              "      <th>Proximity to Destination</th>\n",
              "      <th>Temperature Condition</th>\n",
              "      <th>Placement_Day into Weeks</th>\n",
              "      <th>Confirmation_Day into Weeks</th>\n",
              "      <th>Arrival_Pickup_Day into Weeks</th>\n",
              "      <th>Pickup_Day into Weeks</th>\n",
              "      <th>Arrival at Destination - Day of Month</th>\n",
              "      <th>Arrival_Destination_Day into Weeks</th>\n",
              "    </tr>\n",
              "  </thead>\n",
              "  <tbody>\n",
              "    <tr>\n",
              "      <th>0</th>\n",
              "      <td>Order_No_19248</td>\n",
              "      <td>User_Id_3355</td>\n",
              "      <td>Bike</td>\n",
              "      <td>3</td>\n",
              "      <td>Business</td>\n",
              "      <td>27</td>\n",
              "      <td>3</td>\n",
              "      <td>1900-01-01 16:44:10</td>\n",
              "      <td>27</td>\n",
              "      <td>3</td>\n",
              "      <td>1900-01-01 16:44:29</td>\n",
              "      <td>27</td>\n",
              "      <td>3</td>\n",
              "      <td>1900-01-01 16:53:04</td>\n",
              "      <td>27</td>\n",
              "      <td>3</td>\n",
              "      <td>1900-01-01 17:06:47</td>\n",
              "      <td>8</td>\n",
              "      <td>NaN</td>\n",
              "      <td>NaN</td>\n",
              "      <td>-1.333275</td>\n",
              "      <td>36.870815</td>\n",
              "      <td>-1.305249</td>\n",
              "      <td>36.822390</td>\n",
              "      <td>Rider_Id_192</td>\n",
              "      <td>Noon</td>\n",
              "      <td>Noon</td>\n",
              "      <td>Evening</td>\n",
              "      <td>Noon</td>\n",
              "      <td>1900-01-01 10:39:55</td>\n",
              "      <td>Morning</td>\n",
              "      <td>Weekday</td>\n",
              "      <td>Weekday</td>\n",
              "      <td>Weekday</td>\n",
              "      <td>5</td>\n",
              "      <td>Weekday</td>\n",
              "      <td>Weekday</td>\n",
              "      <td>7.130916</td>\n",
              "      <td>0.929731</td>\n",
              "      <td>Normal Temperature</td>\n",
              "      <td>4th Week</td>\n",
              "      <td>4th Week</td>\n",
              "      <td>4th Week</td>\n",
              "      <td>4th Week</td>\n",
              "      <td>9</td>\n",
              "      <td>2nd Week</td>\n",
              "    </tr>\n",
              "    <tr>\n",
              "      <th>1</th>\n",
              "      <td>Order_No_12736</td>\n",
              "      <td>User_Id_3647</td>\n",
              "      <td>Bike</td>\n",
              "      <td>3</td>\n",
              "      <td>Business</td>\n",
              "      <td>17</td>\n",
              "      <td>5</td>\n",
              "      <td>1900-01-01 12:57:35</td>\n",
              "      <td>17</td>\n",
              "      <td>5</td>\n",
              "      <td>1900-01-01 12:59:17</td>\n",
              "      <td>17</td>\n",
              "      <td>5</td>\n",
              "      <td>1900-01-01 13:20:27</td>\n",
              "      <td>17</td>\n",
              "      <td>5</td>\n",
              "      <td>1900-01-01 13:25:37</td>\n",
              "      <td>5</td>\n",
              "      <td>NaN</td>\n",
              "      <td>NaN</td>\n",
              "      <td>-1.272639</td>\n",
              "      <td>36.794723</td>\n",
              "      <td>-1.277007</td>\n",
              "      <td>36.823907</td>\n",
              "      <td>Rider_Id_868</td>\n",
              "      <td>Noon</td>\n",
              "      <td>Noon</td>\n",
              "      <td>Noon</td>\n",
              "      <td>Noon</td>\n",
              "      <td>1900-01-01 12:17:22</td>\n",
              "      <td>Noon</td>\n",
              "      <td>Weekday</td>\n",
              "      <td>Weekday</td>\n",
              "      <td>Weekday</td>\n",
              "      <td>5</td>\n",
              "      <td>Weekday</td>\n",
              "      <td>Weekday</td>\n",
              "      <td>3.824221</td>\n",
              "      <td>2.657570</td>\n",
              "      <td>Normal Temperature</td>\n",
              "      <td>3rd Week</td>\n",
              "      <td>3rd Week</td>\n",
              "      <td>3rd Week</td>\n",
              "      <td>3rd Week</td>\n",
              "      <td>12</td>\n",
              "      <td>2nd Week</td>\n",
              "    </tr>\n",
              "  </tbody>\n",
              "</table>\n",
              "</div>"
            ],
            "text/plain": [
              "         Order No  ... Arrival_Destination_Day into Weeks\n",
              "0  Order_No_19248  ...                           2nd Week\n",
              "1  Order_No_12736  ...                           2nd Week\n",
              "\n",
              "[2 rows x 46 columns]"
            ]
          },
          "metadata": {
            "tags": []
          },
          "execution_count": 236
        }
      ]
    },
    {
      "cell_type": "code",
      "metadata": {
        "colab": {
          "base_uri": "https://localhost:8080/",
          "height": 294
        },
        "id": "iduCCizgp9tN",
        "outputId": "dca29cf9-1bbd-48c7-8bf8-1ad7a7a1a72f"
      },
      "source": [
        "Training_Feature_Eng.head(2)"
      ],
      "execution_count": null,
      "outputs": [
        {
          "output_type": "execute_result",
          "data": {
            "text/html": [
              "<div>\n",
              "<style scoped>\n",
              "    .dataframe tbody tr th:only-of-type {\n",
              "        vertical-align: middle;\n",
              "    }\n",
              "\n",
              "    .dataframe tbody tr th {\n",
              "        vertical-align: top;\n",
              "    }\n",
              "\n",
              "    .dataframe thead th {\n",
              "        text-align: right;\n",
              "    }\n",
              "</style>\n",
              "<table border=\"1\" class=\"dataframe\">\n",
              "  <thead>\n",
              "    <tr style=\"text-align: right;\">\n",
              "      <th></th>\n",
              "      <th>Order No</th>\n",
              "      <th>User Id</th>\n",
              "      <th>Vehicle Type</th>\n",
              "      <th>Platform Type</th>\n",
              "      <th>Personal or Business</th>\n",
              "      <th>Placement - Day of Month</th>\n",
              "      <th>Placement - Weekday (Mo = 1)</th>\n",
              "      <th>Placement - Time</th>\n",
              "      <th>Confirmation - Day of Month</th>\n",
              "      <th>Confirmation - Weekday (Mo = 1)</th>\n",
              "      <th>Confirmation - Time</th>\n",
              "      <th>Arrival at Pickup - Day of Month</th>\n",
              "      <th>Arrival at Pickup - Weekday (Mo = 1)</th>\n",
              "      <th>Arrival at Pickup - Time</th>\n",
              "      <th>Pickup - Day of Month</th>\n",
              "      <th>Pickup - Weekday (Mo = 1)</th>\n",
              "      <th>Pickup - Time</th>\n",
              "      <th>Arrival at Destination - Day of Month</th>\n",
              "      <th>Arrival at Destination - Weekday (Mo = 1)</th>\n",
              "      <th>Arrival at Destination - Time</th>\n",
              "      <th>Distance (KM)</th>\n",
              "      <th>Temperature</th>\n",
              "      <th>Precipitation in millimeters</th>\n",
              "      <th>Pickup Lat</th>\n",
              "      <th>Pickup Long</th>\n",
              "      <th>Destination Lat</th>\n",
              "      <th>Destination Long</th>\n",
              "      <th>Rider Id</th>\n",
              "      <th>Time from Pickup to Arrival</th>\n",
              "      <th>Placement Time of Day</th>\n",
              "      <th>Confirmation Time of Day</th>\n",
              "      <th>Pickup Time of Day</th>\n",
              "      <th>Arrival at Pickup Time of Day</th>\n",
              "      <th>Arrival at Destination Time of Day</th>\n",
              "      <th>Actual Day of Placement</th>\n",
              "      <th>Actual Day of Confirmation</th>\n",
              "      <th>Actual Day of Pickup</th>\n",
              "      <th>Actual Day of Arrival at Destination</th>\n",
              "      <th>Actual Day of Arrival at Pickup</th>\n",
              "      <th>Proximity to Pickup Point</th>\n",
              "      <th>Proximity to Destination</th>\n",
              "      <th>Temperature Condition</th>\n",
              "      <th>Placement_Day into Weeks</th>\n",
              "      <th>Confirmation_Day into Weeks</th>\n",
              "      <th>Arrival_Pickup_Day into Weeks</th>\n",
              "      <th>Pickup_Day into Weeks</th>\n",
              "      <th>Arrival_Destination_Day into Weeks</th>\n",
              "    </tr>\n",
              "  </thead>\n",
              "  <tbody>\n",
              "    <tr>\n",
              "      <th>0</th>\n",
              "      <td>Order_No_4211</td>\n",
              "      <td>User_Id_633</td>\n",
              "      <td>Bike</td>\n",
              "      <td>3</td>\n",
              "      <td>Business</td>\n",
              "      <td>9</td>\n",
              "      <td>5</td>\n",
              "      <td>1900-01-01 09:35:46</td>\n",
              "      <td>9</td>\n",
              "      <td>5</td>\n",
              "      <td>1900-01-01 09:40:10</td>\n",
              "      <td>9</td>\n",
              "      <td>5</td>\n",
              "      <td>1900-01-01 10:04:47</td>\n",
              "      <td>9</td>\n",
              "      <td>5</td>\n",
              "      <td>1900-01-01 10:27:30</td>\n",
              "      <td>9</td>\n",
              "      <td>5</td>\n",
              "      <td>1900-01-01 10:39:55</td>\n",
              "      <td>4</td>\n",
              "      <td>20.4</td>\n",
              "      <td>NaN</td>\n",
              "      <td>-1.317755</td>\n",
              "      <td>36.830370</td>\n",
              "      <td>-1.300406</td>\n",
              "      <td>36.829741</td>\n",
              "      <td>Rider_Id_432</td>\n",
              "      <td>745</td>\n",
              "      <td>Morning</td>\n",
              "      <td>Morning</td>\n",
              "      <td>Morning</td>\n",
              "      <td>Morning</td>\n",
              "      <td>Morning</td>\n",
              "      <td>Weekday</td>\n",
              "      <td>Weekday</td>\n",
              "      <td>Weekday</td>\n",
              "      <td>Weekday</td>\n",
              "      <td>Weekday</td>\n",
              "      <td>2.549607</td>\n",
              "      <td>1.520355</td>\n",
              "      <td>Average High Temperature</td>\n",
              "      <td>2nd Week</td>\n",
              "      <td>2nd Week</td>\n",
              "      <td>2nd Week</td>\n",
              "      <td>2nd Week</td>\n",
              "      <td>2nd Week</td>\n",
              "    </tr>\n",
              "    <tr>\n",
              "      <th>1</th>\n",
              "      <td>Order_No_25375</td>\n",
              "      <td>User_Id_2285</td>\n",
              "      <td>Bike</td>\n",
              "      <td>3</td>\n",
              "      <td>Personal</td>\n",
              "      <td>12</td>\n",
              "      <td>5</td>\n",
              "      <td>1900-01-01 11:16:16</td>\n",
              "      <td>12</td>\n",
              "      <td>5</td>\n",
              "      <td>1900-01-01 11:23:21</td>\n",
              "      <td>12</td>\n",
              "      <td>5</td>\n",
              "      <td>1900-01-01 11:40:22</td>\n",
              "      <td>12</td>\n",
              "      <td>5</td>\n",
              "      <td>1900-01-01 11:44:09</td>\n",
              "      <td>12</td>\n",
              "      <td>5</td>\n",
              "      <td>1900-01-01 12:17:22</td>\n",
              "      <td>16</td>\n",
              "      <td>26.4</td>\n",
              "      <td>NaN</td>\n",
              "      <td>-1.351453</td>\n",
              "      <td>36.899315</td>\n",
              "      <td>-1.295004</td>\n",
              "      <td>36.814358</td>\n",
              "      <td>Rider_Id_856</td>\n",
              "      <td>1993</td>\n",
              "      <td>Morning</td>\n",
              "      <td>Morning</td>\n",
              "      <td>Morning</td>\n",
              "      <td>Morning</td>\n",
              "      <td>Noon</td>\n",
              "      <td>Weekday</td>\n",
              "      <td>Weekday</td>\n",
              "      <td>Weekday</td>\n",
              "      <td>Weekday</td>\n",
              "      <td>Weekday</td>\n",
              "      <td>10.885586</td>\n",
              "      <td>0.556101</td>\n",
              "      <td>Average High Temperature</td>\n",
              "      <td>2nd Week</td>\n",
              "      <td>2nd Week</td>\n",
              "      <td>2nd Week</td>\n",
              "      <td>2nd Week</td>\n",
              "      <td>2nd Week</td>\n",
              "    </tr>\n",
              "  </tbody>\n",
              "</table>\n",
              "</div>"
            ],
            "text/plain": [
              "         Order No  ... Arrival_Destination_Day into Weeks\n",
              "0   Order_No_4211  ...                           2nd Week\n",
              "1  Order_No_25375  ...                           2nd Week\n",
              "\n",
              "[2 rows x 47 columns]"
            ]
          },
          "metadata": {
            "tags": []
          },
          "execution_count": 237
        }
      ]
    },
    {
      "cell_type": "code",
      "metadata": {
        "id": "PI_yXIfJpios"
      },
      "source": [
        "Training_Feature_Eng['Precipitation in millimeters'].fillna(0, inplace = True)\n",
        "Training_Feature_Eng['Temperature'].fillna((Training_Feature_Eng['Temperature'].mean()), inplace=True)"
      ],
      "execution_count": null,
      "outputs": []
    },
    {
      "cell_type": "code",
      "metadata": {
        "id": "SQTVjP3Npisc"
      },
      "source": [
        "Testing_Feature_Eng['Precipitation in millimeters'].fillna(0, inplace = True)\n",
        "Testing_Feature_Eng['Temperature'].fillna((Training_Feature_Eng['Temperature'].mean()), inplace=True)"
      ],
      "execution_count": null,
      "outputs": []
    },
    {
      "cell_type": "code",
      "metadata": {
        "id": "PzkANjuwpivc"
      },
      "source": [
        "Numeric_Train = Training_Feature_Eng._get_numeric_data()\n",
        "Numeric_Test = Testing_Feature_Eng._get_numeric_data()"
      ],
      "execution_count": null,
      "outputs": []
    },
    {
      "cell_type": "code",
      "metadata": {
        "id": "vuAmTebqqbRs"
      },
      "source": [
        "Categorical_Train = Training_Feature_Eng.select_dtypes(include=['object'])\n",
        "Categorical_Test = Testing_Feature_Eng.select_dtypes(include=['object'])"
      ],
      "execution_count": null,
      "outputs": []
    },
    {
      "cell_type": "code",
      "metadata": {
        "colab": {
          "base_uri": "https://localhost:8080/",
          "height": 227
        },
        "id": "irRzNMegqbYc",
        "outputId": "cafb9e80-4880-4da9-a445-f889ec97b890"
      },
      "source": [
        "Categorical_Train.head(2)"
      ],
      "execution_count": null,
      "outputs": [
        {
          "output_type": "execute_result",
          "data": {
            "text/html": [
              "<div>\n",
              "<style scoped>\n",
              "    .dataframe tbody tr th:only-of-type {\n",
              "        vertical-align: middle;\n",
              "    }\n",
              "\n",
              "    .dataframe tbody tr th {\n",
              "        vertical-align: top;\n",
              "    }\n",
              "\n",
              "    .dataframe thead th {\n",
              "        text-align: right;\n",
              "    }\n",
              "</style>\n",
              "<table border=\"1\" class=\"dataframe\">\n",
              "  <thead>\n",
              "    <tr style=\"text-align: right;\">\n",
              "      <th></th>\n",
              "      <th>Order No</th>\n",
              "      <th>User Id</th>\n",
              "      <th>Vehicle Type</th>\n",
              "      <th>Personal or Business</th>\n",
              "      <th>Rider Id</th>\n",
              "      <th>Placement Time of Day</th>\n",
              "      <th>Confirmation Time of Day</th>\n",
              "      <th>Pickup Time of Day</th>\n",
              "      <th>Arrival at Pickup Time of Day</th>\n",
              "      <th>Arrival at Destination Time of Day</th>\n",
              "      <th>Actual Day of Placement</th>\n",
              "      <th>Actual Day of Confirmation</th>\n",
              "      <th>Actual Day of Pickup</th>\n",
              "      <th>Actual Day of Arrival at Destination</th>\n",
              "      <th>Actual Day of Arrival at Pickup</th>\n",
              "      <th>Temperature Condition</th>\n",
              "      <th>Placement_Day into Weeks</th>\n",
              "      <th>Confirmation_Day into Weeks</th>\n",
              "      <th>Arrival_Pickup_Day into Weeks</th>\n",
              "      <th>Pickup_Day into Weeks</th>\n",
              "      <th>Arrival_Destination_Day into Weeks</th>\n",
              "    </tr>\n",
              "  </thead>\n",
              "  <tbody>\n",
              "    <tr>\n",
              "      <th>0</th>\n",
              "      <td>Order_No_4211</td>\n",
              "      <td>User_Id_633</td>\n",
              "      <td>Bike</td>\n",
              "      <td>Business</td>\n",
              "      <td>Rider_Id_432</td>\n",
              "      <td>Morning</td>\n",
              "      <td>Morning</td>\n",
              "      <td>Morning</td>\n",
              "      <td>Morning</td>\n",
              "      <td>Morning</td>\n",
              "      <td>Weekday</td>\n",
              "      <td>Weekday</td>\n",
              "      <td>Weekday</td>\n",
              "      <td>Weekday</td>\n",
              "      <td>Weekday</td>\n",
              "      <td>Average High Temperature</td>\n",
              "      <td>2nd Week</td>\n",
              "      <td>2nd Week</td>\n",
              "      <td>2nd Week</td>\n",
              "      <td>2nd Week</td>\n",
              "      <td>2nd Week</td>\n",
              "    </tr>\n",
              "    <tr>\n",
              "      <th>1</th>\n",
              "      <td>Order_No_25375</td>\n",
              "      <td>User_Id_2285</td>\n",
              "      <td>Bike</td>\n",
              "      <td>Personal</td>\n",
              "      <td>Rider_Id_856</td>\n",
              "      <td>Morning</td>\n",
              "      <td>Morning</td>\n",
              "      <td>Morning</td>\n",
              "      <td>Morning</td>\n",
              "      <td>Noon</td>\n",
              "      <td>Weekday</td>\n",
              "      <td>Weekday</td>\n",
              "      <td>Weekday</td>\n",
              "      <td>Weekday</td>\n",
              "      <td>Weekday</td>\n",
              "      <td>Average High Temperature</td>\n",
              "      <td>2nd Week</td>\n",
              "      <td>2nd Week</td>\n",
              "      <td>2nd Week</td>\n",
              "      <td>2nd Week</td>\n",
              "      <td>2nd Week</td>\n",
              "    </tr>\n",
              "  </tbody>\n",
              "</table>\n",
              "</div>"
            ],
            "text/plain": [
              "         Order No  ... Arrival_Destination_Day into Weeks\n",
              "0   Order_No_4211  ...                           2nd Week\n",
              "1  Order_No_25375  ...                           2nd Week\n",
              "\n",
              "[2 rows x 21 columns]"
            ]
          },
          "metadata": {
            "tags": []
          },
          "execution_count": 242
        }
      ]
    },
    {
      "cell_type": "code",
      "metadata": {
        "id": "klOg4WrLqbeF"
      },
      "source": [
        "Droppers = ['Order No','User Id','Vehicle Type','Rider Id']"
      ],
      "execution_count": null,
      "outputs": []
    },
    {
      "cell_type": "code",
      "metadata": {
        "id": "yg9cPCj2qbkB"
      },
      "source": [
        "Categorical_Train = Categorical_Train.drop(Droppers, axis=1)\n",
        "Categorical_Test = Categorical_Test.drop(Droppers, axis=1)"
      ],
      "execution_count": null,
      "outputs": []
    },
    {
      "cell_type": "code",
      "metadata": {
        "id": "f2TeykOqqbrj"
      },
      "source": [
        "Encod_Cate_Train = pd.get_dummies(Categorical_Train)\n",
        "Encod_Cate_Test = pd.get_dummies(Categorical_Test)"
      ],
      "execution_count": null,
      "outputs": []
    },
    {
      "cell_type": "code",
      "metadata": {
        "id": "24v4OUTnqoTI",
        "colab": {
          "base_uri": "https://localhost:8080/",
          "height": 299
        },
        "outputId": "f2419737-065d-4418-99a5-5a161e2635b5"
      },
      "source": [
        "Encod_Cate_Train.head()"
      ],
      "execution_count": null,
      "outputs": [
        {
          "output_type": "execute_result",
          "data": {
            "text/html": [
              "<div>\n",
              "<style scoped>\n",
              "    .dataframe tbody tr th:only-of-type {\n",
              "        vertical-align: middle;\n",
              "    }\n",
              "\n",
              "    .dataframe tbody tr th {\n",
              "        vertical-align: top;\n",
              "    }\n",
              "\n",
              "    .dataframe thead th {\n",
              "        text-align: right;\n",
              "    }\n",
              "</style>\n",
              "<table border=\"1\" class=\"dataframe\">\n",
              "  <thead>\n",
              "    <tr style=\"text-align: right;\">\n",
              "      <th></th>\n",
              "      <th>Personal or Business_Business</th>\n",
              "      <th>Personal or Business_Personal</th>\n",
              "      <th>Placement Time of Day_Early Morning</th>\n",
              "      <th>Placement Time of Day_Evening</th>\n",
              "      <th>Placement Time of Day_Late Night</th>\n",
              "      <th>Placement Time of Day_Morning</th>\n",
              "      <th>Placement Time of Day_Night</th>\n",
              "      <th>Placement Time of Day_Noon</th>\n",
              "      <th>Confirmation Time of Day_Early Morning</th>\n",
              "      <th>Confirmation Time of Day_Evening</th>\n",
              "      <th>Confirmation Time of Day_Late Night</th>\n",
              "      <th>Confirmation Time of Day_Morning</th>\n",
              "      <th>Confirmation Time of Day_Night</th>\n",
              "      <th>Confirmation Time of Day_Noon</th>\n",
              "      <th>Pickup Time of Day_Early Morning</th>\n",
              "      <th>Pickup Time of Day_Evening</th>\n",
              "      <th>Pickup Time of Day_Late Night</th>\n",
              "      <th>Pickup Time of Day_Morning</th>\n",
              "      <th>Pickup Time of Day_Night</th>\n",
              "      <th>Pickup Time of Day_Noon</th>\n",
              "      <th>Arrival at Pickup Time of Day_Early Morning</th>\n",
              "      <th>Arrival at Pickup Time of Day_Evening</th>\n",
              "      <th>Arrival at Pickup Time of Day_Late Night</th>\n",
              "      <th>Arrival at Pickup Time of Day_Morning</th>\n",
              "      <th>Arrival at Pickup Time of Day_Night</th>\n",
              "      <th>Arrival at Pickup Time of Day_Noon</th>\n",
              "      <th>Arrival at Destination Time of Day_Early Morning</th>\n",
              "      <th>Arrival at Destination Time of Day_Evening</th>\n",
              "      <th>Arrival at Destination Time of Day_Late Night</th>\n",
              "      <th>Arrival at Destination Time of Day_Morning</th>\n",
              "      <th>Arrival at Destination Time of Day_Night</th>\n",
              "      <th>Arrival at Destination Time of Day_Noon</th>\n",
              "      <th>Actual Day of Placement_Weekday</th>\n",
              "      <th>Actual Day of Placement_Weekend</th>\n",
              "      <th>Actual Day of Confirmation_Weekday</th>\n",
              "      <th>Actual Day of Confirmation_Weekend</th>\n",
              "      <th>Actual Day of Pickup_Weekday</th>\n",
              "      <th>Actual Day of Pickup_Weekend</th>\n",
              "      <th>Actual Day of Arrival at Destination_Weekday</th>\n",
              "      <th>Actual Day of Arrival at Destination_Weekend</th>\n",
              "      <th>Actual Day of Arrival at Pickup_Weekday</th>\n",
              "      <th>Actual Day of Arrival at Pickup_Weekend</th>\n",
              "      <th>Temperature Condition_Average High Temperature</th>\n",
              "      <th>Temperature Condition_Average Low Temperature</th>\n",
              "      <th>Temperature Condition_Normal Temperature</th>\n",
              "      <th>Placement_Day into Weeks_1st Week</th>\n",
              "      <th>Placement_Day into Weeks_2nd Week</th>\n",
              "      <th>Placement_Day into Weeks_3rd Week</th>\n",
              "      <th>Placement_Day into Weeks_4th Week</th>\n",
              "      <th>Confirmation_Day into Weeks_1st Week</th>\n",
              "      <th>Confirmation_Day into Weeks_2nd Week</th>\n",
              "      <th>Confirmation_Day into Weeks_3rd Week</th>\n",
              "      <th>Confirmation_Day into Weeks_4th Week</th>\n",
              "      <th>Arrival_Pickup_Day into Weeks_1st Week</th>\n",
              "      <th>Arrival_Pickup_Day into Weeks_2nd Week</th>\n",
              "      <th>Arrival_Pickup_Day into Weeks_3rd Week</th>\n",
              "      <th>Arrival_Pickup_Day into Weeks_4th Week</th>\n",
              "      <th>Pickup_Day into Weeks_1st Week</th>\n",
              "      <th>Pickup_Day into Weeks_2nd Week</th>\n",
              "      <th>Pickup_Day into Weeks_3rd Week</th>\n",
              "      <th>Pickup_Day into Weeks_4th Week</th>\n",
              "      <th>Arrival_Destination_Day into Weeks_1st Week</th>\n",
              "      <th>Arrival_Destination_Day into Weeks_2nd Week</th>\n",
              "      <th>Arrival_Destination_Day into Weeks_3rd Week</th>\n",
              "      <th>Arrival_Destination_Day into Weeks_4th Week</th>\n",
              "    </tr>\n",
              "  </thead>\n",
              "  <tbody>\n",
              "    <tr>\n",
              "      <th>0</th>\n",
              "      <td>1</td>\n",
              "      <td>0</td>\n",
              "      <td>0</td>\n",
              "      <td>0</td>\n",
              "      <td>0</td>\n",
              "      <td>1</td>\n",
              "      <td>0</td>\n",
              "      <td>0</td>\n",
              "      <td>0</td>\n",
              "      <td>0</td>\n",
              "      <td>0</td>\n",
              "      <td>1</td>\n",
              "      <td>0</td>\n",
              "      <td>0</td>\n",
              "      <td>0</td>\n",
              "      <td>0</td>\n",
              "      <td>0</td>\n",
              "      <td>1</td>\n",
              "      <td>0</td>\n",
              "      <td>0</td>\n",
              "      <td>0</td>\n",
              "      <td>0</td>\n",
              "      <td>0</td>\n",
              "      <td>1</td>\n",
              "      <td>0</td>\n",
              "      <td>0</td>\n",
              "      <td>0</td>\n",
              "      <td>0</td>\n",
              "      <td>0</td>\n",
              "      <td>1</td>\n",
              "      <td>0</td>\n",
              "      <td>0</td>\n",
              "      <td>1</td>\n",
              "      <td>0</td>\n",
              "      <td>1</td>\n",
              "      <td>0</td>\n",
              "      <td>1</td>\n",
              "      <td>0</td>\n",
              "      <td>1</td>\n",
              "      <td>0</td>\n",
              "      <td>1</td>\n",
              "      <td>0</td>\n",
              "      <td>1</td>\n",
              "      <td>0</td>\n",
              "      <td>0</td>\n",
              "      <td>0</td>\n",
              "      <td>1</td>\n",
              "      <td>0</td>\n",
              "      <td>0</td>\n",
              "      <td>0</td>\n",
              "      <td>1</td>\n",
              "      <td>0</td>\n",
              "      <td>0</td>\n",
              "      <td>0</td>\n",
              "      <td>1</td>\n",
              "      <td>0</td>\n",
              "      <td>0</td>\n",
              "      <td>0</td>\n",
              "      <td>1</td>\n",
              "      <td>0</td>\n",
              "      <td>0</td>\n",
              "      <td>0</td>\n",
              "      <td>1</td>\n",
              "      <td>0</td>\n",
              "      <td>0</td>\n",
              "    </tr>\n",
              "    <tr>\n",
              "      <th>1</th>\n",
              "      <td>0</td>\n",
              "      <td>1</td>\n",
              "      <td>0</td>\n",
              "      <td>0</td>\n",
              "      <td>0</td>\n",
              "      <td>1</td>\n",
              "      <td>0</td>\n",
              "      <td>0</td>\n",
              "      <td>0</td>\n",
              "      <td>0</td>\n",
              "      <td>0</td>\n",
              "      <td>1</td>\n",
              "      <td>0</td>\n",
              "      <td>0</td>\n",
              "      <td>0</td>\n",
              "      <td>0</td>\n",
              "      <td>0</td>\n",
              "      <td>1</td>\n",
              "      <td>0</td>\n",
              "      <td>0</td>\n",
              "      <td>0</td>\n",
              "      <td>0</td>\n",
              "      <td>0</td>\n",
              "      <td>1</td>\n",
              "      <td>0</td>\n",
              "      <td>0</td>\n",
              "      <td>0</td>\n",
              "      <td>0</td>\n",
              "      <td>0</td>\n",
              "      <td>0</td>\n",
              "      <td>0</td>\n",
              "      <td>1</td>\n",
              "      <td>1</td>\n",
              "      <td>0</td>\n",
              "      <td>1</td>\n",
              "      <td>0</td>\n",
              "      <td>1</td>\n",
              "      <td>0</td>\n",
              "      <td>1</td>\n",
              "      <td>0</td>\n",
              "      <td>1</td>\n",
              "      <td>0</td>\n",
              "      <td>1</td>\n",
              "      <td>0</td>\n",
              "      <td>0</td>\n",
              "      <td>0</td>\n",
              "      <td>1</td>\n",
              "      <td>0</td>\n",
              "      <td>0</td>\n",
              "      <td>0</td>\n",
              "      <td>1</td>\n",
              "      <td>0</td>\n",
              "      <td>0</td>\n",
              "      <td>0</td>\n",
              "      <td>1</td>\n",
              "      <td>0</td>\n",
              "      <td>0</td>\n",
              "      <td>0</td>\n",
              "      <td>1</td>\n",
              "      <td>0</td>\n",
              "      <td>0</td>\n",
              "      <td>0</td>\n",
              "      <td>1</td>\n",
              "      <td>0</td>\n",
              "      <td>0</td>\n",
              "    </tr>\n",
              "    <tr>\n",
              "      <th>2</th>\n",
              "      <td>1</td>\n",
              "      <td>0</td>\n",
              "      <td>0</td>\n",
              "      <td>0</td>\n",
              "      <td>0</td>\n",
              "      <td>0</td>\n",
              "      <td>0</td>\n",
              "      <td>1</td>\n",
              "      <td>0</td>\n",
              "      <td>0</td>\n",
              "      <td>0</td>\n",
              "      <td>0</td>\n",
              "      <td>0</td>\n",
              "      <td>1</td>\n",
              "      <td>0</td>\n",
              "      <td>0</td>\n",
              "      <td>0</td>\n",
              "      <td>0</td>\n",
              "      <td>0</td>\n",
              "      <td>1</td>\n",
              "      <td>0</td>\n",
              "      <td>0</td>\n",
              "      <td>0</td>\n",
              "      <td>0</td>\n",
              "      <td>0</td>\n",
              "      <td>1</td>\n",
              "      <td>0</td>\n",
              "      <td>0</td>\n",
              "      <td>0</td>\n",
              "      <td>0</td>\n",
              "      <td>0</td>\n",
              "      <td>1</td>\n",
              "      <td>1</td>\n",
              "      <td>0</td>\n",
              "      <td>1</td>\n",
              "      <td>0</td>\n",
              "      <td>1</td>\n",
              "      <td>0</td>\n",
              "      <td>1</td>\n",
              "      <td>0</td>\n",
              "      <td>1</td>\n",
              "      <td>0</td>\n",
              "      <td>0</td>\n",
              "      <td>0</td>\n",
              "      <td>1</td>\n",
              "      <td>0</td>\n",
              "      <td>0</td>\n",
              "      <td>0</td>\n",
              "      <td>1</td>\n",
              "      <td>0</td>\n",
              "      <td>0</td>\n",
              "      <td>0</td>\n",
              "      <td>1</td>\n",
              "      <td>0</td>\n",
              "      <td>0</td>\n",
              "      <td>0</td>\n",
              "      <td>1</td>\n",
              "      <td>0</td>\n",
              "      <td>0</td>\n",
              "      <td>0</td>\n",
              "      <td>1</td>\n",
              "      <td>0</td>\n",
              "      <td>0</td>\n",
              "      <td>0</td>\n",
              "      <td>1</td>\n",
              "    </tr>\n",
              "    <tr>\n",
              "      <th>3</th>\n",
              "      <td>1</td>\n",
              "      <td>0</td>\n",
              "      <td>0</td>\n",
              "      <td>0</td>\n",
              "      <td>0</td>\n",
              "      <td>1</td>\n",
              "      <td>0</td>\n",
              "      <td>0</td>\n",
              "      <td>0</td>\n",
              "      <td>0</td>\n",
              "      <td>0</td>\n",
              "      <td>1</td>\n",
              "      <td>0</td>\n",
              "      <td>0</td>\n",
              "      <td>0</td>\n",
              "      <td>0</td>\n",
              "      <td>0</td>\n",
              "      <td>1</td>\n",
              "      <td>0</td>\n",
              "      <td>0</td>\n",
              "      <td>0</td>\n",
              "      <td>0</td>\n",
              "      <td>0</td>\n",
              "      <td>1</td>\n",
              "      <td>0</td>\n",
              "      <td>0</td>\n",
              "      <td>0</td>\n",
              "      <td>0</td>\n",
              "      <td>0</td>\n",
              "      <td>1</td>\n",
              "      <td>0</td>\n",
              "      <td>0</td>\n",
              "      <td>1</td>\n",
              "      <td>0</td>\n",
              "      <td>1</td>\n",
              "      <td>0</td>\n",
              "      <td>1</td>\n",
              "      <td>0</td>\n",
              "      <td>1</td>\n",
              "      <td>0</td>\n",
              "      <td>1</td>\n",
              "      <td>0</td>\n",
              "      <td>1</td>\n",
              "      <td>0</td>\n",
              "      <td>0</td>\n",
              "      <td>0</td>\n",
              "      <td>1</td>\n",
              "      <td>0</td>\n",
              "      <td>0</td>\n",
              "      <td>0</td>\n",
              "      <td>1</td>\n",
              "      <td>0</td>\n",
              "      <td>0</td>\n",
              "      <td>0</td>\n",
              "      <td>1</td>\n",
              "      <td>0</td>\n",
              "      <td>0</td>\n",
              "      <td>0</td>\n",
              "      <td>1</td>\n",
              "      <td>0</td>\n",
              "      <td>0</td>\n",
              "      <td>0</td>\n",
              "      <td>1</td>\n",
              "      <td>0</td>\n",
              "      <td>0</td>\n",
              "    </tr>\n",
              "    <tr>\n",
              "      <th>4</th>\n",
              "      <td>0</td>\n",
              "      <td>1</td>\n",
              "      <td>0</td>\n",
              "      <td>0</td>\n",
              "      <td>0</td>\n",
              "      <td>1</td>\n",
              "      <td>0</td>\n",
              "      <td>0</td>\n",
              "      <td>0</td>\n",
              "      <td>0</td>\n",
              "      <td>0</td>\n",
              "      <td>1</td>\n",
              "      <td>0</td>\n",
              "      <td>0</td>\n",
              "      <td>0</td>\n",
              "      <td>0</td>\n",
              "      <td>0</td>\n",
              "      <td>1</td>\n",
              "      <td>0</td>\n",
              "      <td>0</td>\n",
              "      <td>0</td>\n",
              "      <td>0</td>\n",
              "      <td>0</td>\n",
              "      <td>1</td>\n",
              "      <td>0</td>\n",
              "      <td>0</td>\n",
              "      <td>0</td>\n",
              "      <td>0</td>\n",
              "      <td>0</td>\n",
              "      <td>1</td>\n",
              "      <td>0</td>\n",
              "      <td>0</td>\n",
              "      <td>1</td>\n",
              "      <td>0</td>\n",
              "      <td>1</td>\n",
              "      <td>0</td>\n",
              "      <td>1</td>\n",
              "      <td>0</td>\n",
              "      <td>1</td>\n",
              "      <td>0</td>\n",
              "      <td>1</td>\n",
              "      <td>0</td>\n",
              "      <td>1</td>\n",
              "      <td>0</td>\n",
              "      <td>0</td>\n",
              "      <td>0</td>\n",
              "      <td>1</td>\n",
              "      <td>0</td>\n",
              "      <td>0</td>\n",
              "      <td>0</td>\n",
              "      <td>1</td>\n",
              "      <td>0</td>\n",
              "      <td>0</td>\n",
              "      <td>0</td>\n",
              "      <td>1</td>\n",
              "      <td>0</td>\n",
              "      <td>0</td>\n",
              "      <td>0</td>\n",
              "      <td>1</td>\n",
              "      <td>0</td>\n",
              "      <td>0</td>\n",
              "      <td>0</td>\n",
              "      <td>1</td>\n",
              "      <td>0</td>\n",
              "      <td>0</td>\n",
              "    </tr>\n",
              "  </tbody>\n",
              "</table>\n",
              "</div>"
            ],
            "text/plain": [
              "   Personal or Business_Business  ...  Arrival_Destination_Day into Weeks_4th Week\n",
              "0                              1  ...                                            0\n",
              "1                              0  ...                                            0\n",
              "2                              1  ...                                            1\n",
              "3                              1  ...                                            0\n",
              "4                              0  ...                                            0\n",
              "\n",
              "[5 rows x 65 columns]"
            ]
          },
          "metadata": {
            "tags": []
          },
          "execution_count": 246
        }
      ]
    },
    {
      "cell_type": "code",
      "metadata": {
        "id": "AOmdzZgwqoZs",
        "colab": {
          "base_uri": "https://localhost:8080/"
        },
        "outputId": "b2b80865-7c4d-4a25-8659-d73a9dc13a03"
      },
      "source": [
        "from statsmodels.stats.outliers_influence import variance_inflation_factor"
      ],
      "execution_count": null,
      "outputs": [
        {
          "output_type": "stream",
          "text": [
            "/usr/local/lib/python3.7/dist-packages/statsmodels/tools/_testing.py:19: FutureWarning: pandas.util.testing is deprecated. Use the functions in the public API at pandas.testing instead.\n",
            "  import pandas.util.testing as tm\n"
          ],
          "name": "stderr"
        }
      ]
    },
    {
      "cell_type": "code",
      "metadata": {
        "id": "Bnn3JGLDqogn"
      },
      "source": [
        "def VIF(Numeric_Train, thresh=15):\n",
        "    variables = list(range(Numeric_Train.shape[1]))\n",
        "    dropped = True\n",
        "    while dropped:\n",
        "        dropped = False\n",
        "        vif = [variance_inflation_factor(Numeric_Train.iloc[:, variables].values, ix)\n",
        "               for ix in range(Numeric_Train.iloc[:, variables].shape[1])]\n",
        "        maxloc = vif.index(max(vif))\n",
        "        if max(vif) > thresh:\n",
        "            print('dropping \\'' + Numeric_Train.iloc[:, variables].columns[maxloc] + '\\' at index: ' + str(maxloc))\n",
        "            del variables[maxloc]\n",
        "            dropped = True\n",
        "\n",
        "    print('Remaining Variables are :')\n",
        "    print(Numeric_Train.columns[variables])\n",
        "    return Numeric_Train.iloc[:, variables]\n"
      ],
      "execution_count": null,
      "outputs": []
    },
    {
      "cell_type": "code",
      "metadata": {
        "id": "njEG_Mirqoqo",
        "colab": {
          "base_uri": "https://localhost:8080/"
        },
        "outputId": "b2fc87c7-96c7-4e7f-a5d5-3e4e6824f989"
      },
      "source": [
        "Cleaned_Train = VIF(Numeric_Train,15)"
      ],
      "execution_count": null,
      "outputs": [
        {
          "output_type": "stream",
          "text": [
            "/usr/local/lib/python3.7/dist-packages/statsmodels/stats/outliers_influence.py:185: RuntimeWarning: divide by zero encountered in double_scalars\n",
            "  vif = 1. / (1. - r_squared_i)\n"
          ],
          "name": "stderr"
        },
        {
          "output_type": "stream",
          "text": [
            "dropping 'Placement - Day of Month' at index: 1\n",
            "dropping 'Confirmation - Day of Month' at index: 2\n",
            "dropping 'Confirmation - Weekday (Mo = 1)' at index: 2\n",
            "dropping 'Arrival at Pickup - Day of Month' at index: 2\n",
            "dropping 'Arrival at Pickup - Weekday (Mo = 1)' at index: 2\n",
            "dropping 'Pickup - Day of Month' at index: 2\n",
            "dropping 'Pickup - Weekday (Mo = 1)' at index: 2\n",
            "dropping 'Pickup Long' at index: 8\n",
            "dropping 'Arrival at Destination - Weekday (Mo = 1)' at index: 3\n",
            "dropping 'Destination Long' at index: 8\n",
            "dropping 'Pickup Lat' at index: 6\n",
            "dropping 'Destination Lat' at index: 6\n",
            "dropping 'Temperature' at index: 4\n",
            "Remaining Variables are :\n",
            "Index(['Platform Type', 'Placement - Weekday (Mo = 1)',\n",
            "       'Arrival at Destination - Day of Month', 'Distance (KM)',\n",
            "       'Precipitation in millimeters', 'Time from Pickup to Arrival',\n",
            "       'Proximity to Pickup Point', 'Proximity to Destination'],\n",
            "      dtype='object')\n"
          ],
          "name": "stdout"
        }
      ]
    },
    {
      "cell_type": "code",
      "metadata": {
        "id": "Ccz-yqTBpPDW"
      },
      "source": [
        "\n",
        "def VIF(Numeric_Test, thresh=15):\n",
        "    variables = list(range(Numeric_Test.shape[1]))\n",
        "    dropped = True\n",
        "    while dropped:\n",
        "        dropped = False\n",
        "        vif = [variance_inflation_factor(Numeric_Test.iloc[:, variables].values, ix)\n",
        "               for ix in range(Numeric_Test.iloc[:, variables].shape[1])]\n",
        "        maxloc = vif.index(max(vif))\n",
        "        if max(vif) > thresh:\n",
        "            print('dropping \\'' + Numeric_Test.iloc[:, variables].columns[maxloc] + '\\' at index: ' + str(maxloc))\n",
        "            del variables[maxloc]\n",
        "            dropped = True\n",
        "\n",
        "    print('Remaining Variables are :')\n",
        "    print(Numeric_Test.columns[variables])\n",
        "    return Numeric_Test.iloc[:, variables]"
      ],
      "execution_count": null,
      "outputs": []
    },
    {
      "cell_type": "code",
      "metadata": {
        "id": "W5AHz34lqwQ4",
        "colab": {
          "base_uri": "https://localhost:8080/"
        },
        "outputId": "559602b9-a638-49c9-b0c6-f51a3426ac67"
      },
      "source": [
        "Cleaned_Test = VIF(Numeric_Test)\n"
      ],
      "execution_count": null,
      "outputs": [
        {
          "output_type": "stream",
          "text": [
            "/usr/local/lib/python3.7/dist-packages/statsmodels/stats/outliers_influence.py:185: RuntimeWarning: divide by zero encountered in double_scalars\n",
            "  vif = 1. / (1. - r_squared_i)\n"
          ],
          "name": "stderr"
        },
        {
          "output_type": "stream",
          "text": [
            "dropping 'Placement - Day of Month' at index: 1\n",
            "dropping 'Placement - Weekday (Mo = 1)' at index: 1\n",
            "dropping 'Confirmation - Day of Month' at index: 1\n",
            "dropping 'Confirmation - Weekday (Mo = 1)' at index: 1\n",
            "dropping 'Arrival at Pickup - Day of Month' at index: 1\n",
            "dropping 'Arrival at Pickup - Weekday (Mo = 1)' at index: 1\n",
            "dropping 'Pickup Long' at index: 7\n",
            "dropping 'Destination Long' at index: 8\n",
            "dropping 'Pickup Lat' at index: 6\n",
            "dropping 'Destination Lat' at index: 6\n",
            "dropping 'Temperature' at index: 4\n",
            "Remaining Variables are :\n",
            "Index(['Platform Type', 'Pickup - Day of Month', 'Pickup - Weekday (Mo = 1)',\n",
            "       'Distance (KM)', 'Precipitation in millimeters',\n",
            "       'Arrival at Destination - Weekday (Mo = 1)',\n",
            "       'Proximity to Pickup Point', 'Proximity to Destination',\n",
            "       'Arrival at Destination - Day of Month'],\n",
            "      dtype='object')\n"
          ],
          "name": "stdout"
        }
      ]
    },
    {
      "cell_type": "code",
      "metadata": {
        "id": "Ra1NB7umqyXG"
      },
      "source": [
        "Cleaned_Train = Cleaned_Train.drop(['Placement - Weekday (Mo = 1)'],axis=1)"
      ],
      "execution_count": null,
      "outputs": []
    },
    {
      "cell_type": "code",
      "metadata": {
        "id": "Kqp5P7zyqyeY"
      },
      "source": [
        "Cleaned_Test = Cleaned_Test.drop([\"Arrival at Destination - Weekday (Mo = 1)\",'Pickup - Day of Month',\n",
        "                                 \"Pickup - Weekday (Mo = 1)\"],axis=1)"
      ],
      "execution_count": null,
      "outputs": []
    },
    {
      "cell_type": "code",
      "metadata": {
        "id": "iIcCjEGFqylg"
      },
      "source": [
        "Training_Cleaned = pd.concat([Encod_Cate_Train, Cleaned_Train], axis=1)\n",
        "Testing_Cleaned = pd.concat([Encod_Cate_Test, Cleaned_Test], axis=1)"
      ],
      "execution_count": null,
      "outputs": []
    },
    {
      "cell_type": "code",
      "metadata": {
        "id": "A5mrCiqMqwXq"
      },
      "source": [
        "Training_Cleaned = Training_Cleaned.drop(['Placement Time of Day_Late Night',\n",
        "                                         'Confirmation Time of Day_Late Night',\n",
        "                                         'Arrival at Pickup Time of Day_Late Night'], axis=1)"
      ],
      "execution_count": null,
      "outputs": []
    },
    {
      "cell_type": "code",
      "metadata": {
        "id": "vCToWNPoq5hj",
        "colab": {
          "base_uri": "https://localhost:8080/",
          "height": 194
        },
        "outputId": "b21bb948-da01-46f1-d201-cee6dc684652"
      },
      "source": [
        "Training_Cleaned.head(2)"
      ],
      "execution_count": null,
      "outputs": [
        {
          "output_type": "execute_result",
          "data": {
            "text/html": [
              "<div>\n",
              "<style scoped>\n",
              "    .dataframe tbody tr th:only-of-type {\n",
              "        vertical-align: middle;\n",
              "    }\n",
              "\n",
              "    .dataframe tbody tr th {\n",
              "        vertical-align: top;\n",
              "    }\n",
              "\n",
              "    .dataframe thead th {\n",
              "        text-align: right;\n",
              "    }\n",
              "</style>\n",
              "<table border=\"1\" class=\"dataframe\">\n",
              "  <thead>\n",
              "    <tr style=\"text-align: right;\">\n",
              "      <th></th>\n",
              "      <th>Personal or Business_Business</th>\n",
              "      <th>Personal or Business_Personal</th>\n",
              "      <th>Placement Time of Day_Early Morning</th>\n",
              "      <th>Placement Time of Day_Evening</th>\n",
              "      <th>Placement Time of Day_Morning</th>\n",
              "      <th>Placement Time of Day_Night</th>\n",
              "      <th>Placement Time of Day_Noon</th>\n",
              "      <th>Confirmation Time of Day_Early Morning</th>\n",
              "      <th>Confirmation Time of Day_Evening</th>\n",
              "      <th>Confirmation Time of Day_Morning</th>\n",
              "      <th>Confirmation Time of Day_Night</th>\n",
              "      <th>Confirmation Time of Day_Noon</th>\n",
              "      <th>Pickup Time of Day_Early Morning</th>\n",
              "      <th>Pickup Time of Day_Evening</th>\n",
              "      <th>Pickup Time of Day_Late Night</th>\n",
              "      <th>Pickup Time of Day_Morning</th>\n",
              "      <th>Pickup Time of Day_Night</th>\n",
              "      <th>Pickup Time of Day_Noon</th>\n",
              "      <th>Arrival at Pickup Time of Day_Early Morning</th>\n",
              "      <th>Arrival at Pickup Time of Day_Evening</th>\n",
              "      <th>Arrival at Pickup Time of Day_Morning</th>\n",
              "      <th>Arrival at Pickup Time of Day_Night</th>\n",
              "      <th>Arrival at Pickup Time of Day_Noon</th>\n",
              "      <th>Arrival at Destination Time of Day_Early Morning</th>\n",
              "      <th>Arrival at Destination Time of Day_Evening</th>\n",
              "      <th>Arrival at Destination Time of Day_Late Night</th>\n",
              "      <th>Arrival at Destination Time of Day_Morning</th>\n",
              "      <th>Arrival at Destination Time of Day_Night</th>\n",
              "      <th>Arrival at Destination Time of Day_Noon</th>\n",
              "      <th>Actual Day of Placement_Weekday</th>\n",
              "      <th>Actual Day of Placement_Weekend</th>\n",
              "      <th>Actual Day of Confirmation_Weekday</th>\n",
              "      <th>Actual Day of Confirmation_Weekend</th>\n",
              "      <th>Actual Day of Pickup_Weekday</th>\n",
              "      <th>Actual Day of Pickup_Weekend</th>\n",
              "      <th>Actual Day of Arrival at Destination_Weekday</th>\n",
              "      <th>Actual Day of Arrival at Destination_Weekend</th>\n",
              "      <th>Actual Day of Arrival at Pickup_Weekday</th>\n",
              "      <th>Actual Day of Arrival at Pickup_Weekend</th>\n",
              "      <th>Temperature Condition_Average High Temperature</th>\n",
              "      <th>Temperature Condition_Average Low Temperature</th>\n",
              "      <th>Temperature Condition_Normal Temperature</th>\n",
              "      <th>Placement_Day into Weeks_1st Week</th>\n",
              "      <th>Placement_Day into Weeks_2nd Week</th>\n",
              "      <th>Placement_Day into Weeks_3rd Week</th>\n",
              "      <th>Placement_Day into Weeks_4th Week</th>\n",
              "      <th>Confirmation_Day into Weeks_1st Week</th>\n",
              "      <th>Confirmation_Day into Weeks_2nd Week</th>\n",
              "      <th>Confirmation_Day into Weeks_3rd Week</th>\n",
              "      <th>Confirmation_Day into Weeks_4th Week</th>\n",
              "      <th>Arrival_Pickup_Day into Weeks_1st Week</th>\n",
              "      <th>Arrival_Pickup_Day into Weeks_2nd Week</th>\n",
              "      <th>Arrival_Pickup_Day into Weeks_3rd Week</th>\n",
              "      <th>Arrival_Pickup_Day into Weeks_4th Week</th>\n",
              "      <th>Pickup_Day into Weeks_1st Week</th>\n",
              "      <th>Pickup_Day into Weeks_2nd Week</th>\n",
              "      <th>Pickup_Day into Weeks_3rd Week</th>\n",
              "      <th>Pickup_Day into Weeks_4th Week</th>\n",
              "      <th>Arrival_Destination_Day into Weeks_1st Week</th>\n",
              "      <th>Arrival_Destination_Day into Weeks_2nd Week</th>\n",
              "      <th>Arrival_Destination_Day into Weeks_3rd Week</th>\n",
              "      <th>Arrival_Destination_Day into Weeks_4th Week</th>\n",
              "      <th>Platform Type</th>\n",
              "      <th>Arrival at Destination - Day of Month</th>\n",
              "      <th>Distance (KM)</th>\n",
              "      <th>Precipitation in millimeters</th>\n",
              "      <th>Time from Pickup to Arrival</th>\n",
              "      <th>Proximity to Pickup Point</th>\n",
              "      <th>Proximity to Destination</th>\n",
              "    </tr>\n",
              "  </thead>\n",
              "  <tbody>\n",
              "    <tr>\n",
              "      <th>0</th>\n",
              "      <td>1</td>\n",
              "      <td>0</td>\n",
              "      <td>0</td>\n",
              "      <td>0</td>\n",
              "      <td>1</td>\n",
              "      <td>0</td>\n",
              "      <td>0</td>\n",
              "      <td>0</td>\n",
              "      <td>0</td>\n",
              "      <td>1</td>\n",
              "      <td>0</td>\n",
              "      <td>0</td>\n",
              "      <td>0</td>\n",
              "      <td>0</td>\n",
              "      <td>0</td>\n",
              "      <td>1</td>\n",
              "      <td>0</td>\n",
              "      <td>0</td>\n",
              "      <td>0</td>\n",
              "      <td>0</td>\n",
              "      <td>1</td>\n",
              "      <td>0</td>\n",
              "      <td>0</td>\n",
              "      <td>0</td>\n",
              "      <td>0</td>\n",
              "      <td>0</td>\n",
              "      <td>1</td>\n",
              "      <td>0</td>\n",
              "      <td>0</td>\n",
              "      <td>1</td>\n",
              "      <td>0</td>\n",
              "      <td>1</td>\n",
              "      <td>0</td>\n",
              "      <td>1</td>\n",
              "      <td>0</td>\n",
              "      <td>1</td>\n",
              "      <td>0</td>\n",
              "      <td>1</td>\n",
              "      <td>0</td>\n",
              "      <td>1</td>\n",
              "      <td>0</td>\n",
              "      <td>0</td>\n",
              "      <td>0</td>\n",
              "      <td>1</td>\n",
              "      <td>0</td>\n",
              "      <td>0</td>\n",
              "      <td>0</td>\n",
              "      <td>1</td>\n",
              "      <td>0</td>\n",
              "      <td>0</td>\n",
              "      <td>0</td>\n",
              "      <td>1</td>\n",
              "      <td>0</td>\n",
              "      <td>0</td>\n",
              "      <td>0</td>\n",
              "      <td>1</td>\n",
              "      <td>0</td>\n",
              "      <td>0</td>\n",
              "      <td>0</td>\n",
              "      <td>1</td>\n",
              "      <td>0</td>\n",
              "      <td>0</td>\n",
              "      <td>3</td>\n",
              "      <td>9</td>\n",
              "      <td>4</td>\n",
              "      <td>0.0</td>\n",
              "      <td>745</td>\n",
              "      <td>2.549607</td>\n",
              "      <td>1.520355</td>\n",
              "    </tr>\n",
              "    <tr>\n",
              "      <th>1</th>\n",
              "      <td>0</td>\n",
              "      <td>1</td>\n",
              "      <td>0</td>\n",
              "      <td>0</td>\n",
              "      <td>1</td>\n",
              "      <td>0</td>\n",
              "      <td>0</td>\n",
              "      <td>0</td>\n",
              "      <td>0</td>\n",
              "      <td>1</td>\n",
              "      <td>0</td>\n",
              "      <td>0</td>\n",
              "      <td>0</td>\n",
              "      <td>0</td>\n",
              "      <td>0</td>\n",
              "      <td>1</td>\n",
              "      <td>0</td>\n",
              "      <td>0</td>\n",
              "      <td>0</td>\n",
              "      <td>0</td>\n",
              "      <td>1</td>\n",
              "      <td>0</td>\n",
              "      <td>0</td>\n",
              "      <td>0</td>\n",
              "      <td>0</td>\n",
              "      <td>0</td>\n",
              "      <td>0</td>\n",
              "      <td>0</td>\n",
              "      <td>1</td>\n",
              "      <td>1</td>\n",
              "      <td>0</td>\n",
              "      <td>1</td>\n",
              "      <td>0</td>\n",
              "      <td>1</td>\n",
              "      <td>0</td>\n",
              "      <td>1</td>\n",
              "      <td>0</td>\n",
              "      <td>1</td>\n",
              "      <td>0</td>\n",
              "      <td>1</td>\n",
              "      <td>0</td>\n",
              "      <td>0</td>\n",
              "      <td>0</td>\n",
              "      <td>1</td>\n",
              "      <td>0</td>\n",
              "      <td>0</td>\n",
              "      <td>0</td>\n",
              "      <td>1</td>\n",
              "      <td>0</td>\n",
              "      <td>0</td>\n",
              "      <td>0</td>\n",
              "      <td>1</td>\n",
              "      <td>0</td>\n",
              "      <td>0</td>\n",
              "      <td>0</td>\n",
              "      <td>1</td>\n",
              "      <td>0</td>\n",
              "      <td>0</td>\n",
              "      <td>0</td>\n",
              "      <td>1</td>\n",
              "      <td>0</td>\n",
              "      <td>0</td>\n",
              "      <td>3</td>\n",
              "      <td>12</td>\n",
              "      <td>16</td>\n",
              "      <td>0.0</td>\n",
              "      <td>1993</td>\n",
              "      <td>10.885586</td>\n",
              "      <td>0.556101</td>\n",
              "    </tr>\n",
              "  </tbody>\n",
              "</table>\n",
              "</div>"
            ],
            "text/plain": [
              "   Personal or Business_Business  ...  Proximity to Destination\n",
              "0                              1  ...                  1.520355\n",
              "1                              0  ...                  0.556101\n",
              "\n",
              "[2 rows x 69 columns]"
            ]
          },
          "metadata": {
            "tags": []
          },
          "execution_count": 256
        }
      ]
    },
    {
      "cell_type": "markdown",
      "metadata": {
        "id": "bCXry1Yqq7zr"
      },
      "source": [
        "**Modeling**"
      ]
    },
    {
      "cell_type": "code",
      "metadata": {
        "id": "gfZQ1AyMq5od"
      },
      "source": [
        "from sklearn.model_selection import train_test_split"
      ],
      "execution_count": null,
      "outputs": []
    },
    {
      "cell_type": "code",
      "metadata": {
        "id": "sxGU_pqfqwfe"
      },
      "source": [
        "New_Train = Training_Cleaned.copy()\n",
        "X = New_Train.drop('Time from Pickup to Arrival', axis = 1)\n",
        "Y = New_Train['Time from Pickup to Arrival']\n",
        "\n",
        "X_Train, X_Test, Y_Train, Y_Test = train_test_split(X, Y, test_size=0.2, random_state=42)"
      ],
      "execution_count": null,
      "outputs": []
    },
    {
      "cell_type": "code",
      "metadata": {
        "id": "UOLlKeHYo1HL",
        "colab": {
          "base_uri": "https://localhost:8080/"
        },
        "outputId": "b272cc41-86f4-4428-9604-6465159107d2"
      },
      "source": [
        "from sklearn.metrics import mean_squared_error, mean_absolute_error, r2_score\n",
        "from sklearn.model_selection import GridSearchCV, train_test_split\n",
        "from sklearn.linear_model import LinearRegression\n",
        "\n",
        "linear_regress = LinearRegression()\n",
        "linear_regress.fit(X_Train, Y_Train)\n",
        "y_pred_train_lr = linear_regress.predict(X_Test)\n",
        "\n",
        "print('RMSE:\\t',np.sqrt(mean_squared_error(Y_Test,y_pred_train_lr)))\n",
        "print('MSE:\\t', mean_squared_error(Y_Test,y_pred_train_lr))\n",
        "print(\"R2: \\t\", r2_score(Y_Test, y_pred_train_lr))"
      ],
      "execution_count": null,
      "outputs": [
        {
          "output_type": "stream",
          "text": [
            "RMSE:\t 779.0955798876851\n",
            "MSE:\t 606989.9226005282\n",
            "R2: \t 0.37508111927734544\n"
          ],
          "name": "stdout"
        }
      ]
    }
  ]
}